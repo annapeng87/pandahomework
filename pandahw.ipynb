{
 "cells": [
  {
   "cell_type": "code",
<<<<<<< HEAD
   "execution_count": 44,
=======
   "execution_count": 1,
>>>>>>> 1ae967017cfd9ba8c776fb786cfdba66c6eff196
   "metadata": {},
   "outputs": [],
   "source": [
    "import pandas as pd\n",
    "import numpy as np\n",
    "import datetime as dt\n",
    "from pathlib import Path\n",
    "%matplotlib inline"
   ]
  },
  {
   "cell_type": "code",
<<<<<<< HEAD
   "execution_count": 45,
=======
   "execution_count": 2,
>>>>>>> 1ae967017cfd9ba8c776fb786cfdba66c6eff196
   "metadata": {},
   "outputs": [
    {
     "data": {
      "text/plain": [
       "'C:\\\\Users\\\\annap\\\\documents\\\\class\\\\ucb-sfc-fin-pt-08-2020-u-c'"
      ]
     },
<<<<<<< HEAD
     "execution_count": 45,
=======
     "execution_count": 2,
>>>>>>> 1ae967017cfd9ba8c776fb786cfdba66c6eff196
     "metadata": {},
     "output_type": "execute_result"
    }
   ],
   "source": [
    "pwd\n"
   ]
  },
  {
   "cell_type": "code",
<<<<<<< HEAD
   "execution_count": 46,
=======
   "execution_count": null,
>>>>>>> 1ae967017cfd9ba8c776fb786cfdba66c6eff196
   "metadata": {},
   "outputs": [],
   "source": [
    "### WHALE RETURNS"
   ]
  },
  {
   "cell_type": "code",
<<<<<<< HEAD
   "execution_count": 47,
=======
   "execution_count": 3,
>>>>>>> 1ae967017cfd9ba8c776fb786cfdba66c6eff196
   "metadata": {},
   "outputs": [],
   "source": [
    "whale_returns_csv = Path(\"~/documents/class/ucb-sfc-fin-pt-08-2020-u-c/ucb-sfc-fin-pt-08-2020-u-c/02-Homework/04-Pandas/Instructions/Starter_Code/Resources/whale_returns.csv\")\n",
    "df = pd.read_csv(whale_returns_csv, parse_dates=True, index_col='Date', infer_datetime_format=True)"
   ]
  },
  {
   "cell_type": "code",
<<<<<<< HEAD
   "execution_count": 48,
=======
   "execution_count": 4,
>>>>>>> 1ae967017cfd9ba8c776fb786cfdba66c6eff196
   "metadata": {},
   "outputs": [
    {
     "data": {
      "text/plain": [
       "SOROS FUND MANAGEMENT LLC      0.09434\n",
       "PAULSON & CO.INC.              0.09434\n",
       "TIGER GLOBAL MANAGEMENT LLC    0.09434\n",
       "BERKSHIRE HATHAWAY INC         0.09434\n",
       "dtype: float64"
      ]
     },
<<<<<<< HEAD
     "execution_count": 48,
=======
     "execution_count": 4,
>>>>>>> 1ae967017cfd9ba8c776fb786cfdba66c6eff196
     "metadata": {},
     "output_type": "execute_result"
    }
   ],
   "source": [
    "df.isnull()\n",
    "df.isnull().mean() * 100"
   ]
  },
  {
   "cell_type": "code",
<<<<<<< HEAD
   "execution_count": 49,
=======
   "execution_count": 5,
>>>>>>> 1ae967017cfd9ba8c776fb786cfdba66c6eff196
   "metadata": {},
   "outputs": [
    {
     "data": {
      "text/html": [
       "<div>\n",
       "<style scoped>\n",
       "    .dataframe tbody tr th:only-of-type {\n",
       "        vertical-align: middle;\n",
       "    }\n",
       "\n",
       "    .dataframe tbody tr th {\n",
       "        vertical-align: top;\n",
       "    }\n",
       "\n",
       "    .dataframe thead th {\n",
       "        text-align: right;\n",
       "    }\n",
       "</style>\n",
       "<table border=\"1\" class=\"dataframe\">\n",
       "  <thead>\n",
       "    <tr style=\"text-align: right;\">\n",
       "      <th></th>\n",
       "      <th>SOROS FUND MANAGEMENT LLC</th>\n",
       "      <th>PAULSON &amp; CO.INC.</th>\n",
       "      <th>TIGER GLOBAL MANAGEMENT LLC</th>\n",
       "      <th>BERKSHIRE HATHAWAY INC</th>\n",
       "    </tr>\n",
       "    <tr>\n",
       "      <th>Date</th>\n",
       "      <th></th>\n",
       "      <th></th>\n",
       "      <th></th>\n",
       "      <th></th>\n",
       "    </tr>\n",
       "  </thead>\n",
       "  <tbody>\n",
       "    <tr>\n",
       "      <th>2015-03-03</th>\n",
       "      <td>-0.001266</td>\n",
       "      <td>-0.004981</td>\n",
       "      <td>-0.000496</td>\n",
       "      <td>-0.006569</td>\n",
       "    </tr>\n",
       "    <tr>\n",
       "      <th>2015-03-04</th>\n",
       "      <td>0.002230</td>\n",
       "      <td>0.003241</td>\n",
       "      <td>-0.002534</td>\n",
       "      <td>0.004213</td>\n",
       "    </tr>\n",
       "    <tr>\n",
       "      <th>2015-03-05</th>\n",
       "      <td>0.004016</td>\n",
       "      <td>0.004076</td>\n",
       "      <td>0.002355</td>\n",
       "      <td>0.006726</td>\n",
       "    </tr>\n",
       "    <tr>\n",
       "      <th>2015-03-06</th>\n",
       "      <td>-0.007905</td>\n",
       "      <td>-0.003574</td>\n",
       "      <td>-0.008481</td>\n",
       "      <td>-0.013098</td>\n",
       "    </tr>\n",
       "    <tr>\n",
       "      <th>2015-03-09</th>\n",
       "      <td>0.000582</td>\n",
       "      <td>0.004225</td>\n",
       "      <td>0.005843</td>\n",
       "      <td>-0.001652</td>\n",
       "    </tr>\n",
       "    <tr>\n",
       "      <th>...</th>\n",
       "      <td>...</td>\n",
       "      <td>...</td>\n",
       "      <td>...</td>\n",
       "      <td>...</td>\n",
       "    </tr>\n",
       "    <tr>\n",
       "      <th>2019-04-25</th>\n",
       "      <td>-0.000285</td>\n",
       "      <td>-0.001291</td>\n",
       "      <td>-0.005153</td>\n",
       "      <td>0.004848</td>\n",
       "    </tr>\n",
       "    <tr>\n",
       "      <th>2019-04-26</th>\n",
       "      <td>0.008149</td>\n",
       "      <td>0.009162</td>\n",
       "      <td>0.012355</td>\n",
       "      <td>0.010434</td>\n",
       "    </tr>\n",
       "    <tr>\n",
       "      <th>2019-04-29</th>\n",
       "      <td>0.001254</td>\n",
       "      <td>0.002719</td>\n",
       "      <td>0.006251</td>\n",
       "      <td>0.005223</td>\n",
       "    </tr>\n",
       "    <tr>\n",
       "      <th>2019-04-30</th>\n",
       "      <td>-0.001295</td>\n",
       "      <td>-0.002211</td>\n",
       "      <td>-0.000259</td>\n",
       "      <td>-0.003702</td>\n",
       "    </tr>\n",
       "    <tr>\n",
       "      <th>2019-05-01</th>\n",
       "      <td>-0.005847</td>\n",
       "      <td>-0.001341</td>\n",
       "      <td>-0.007936</td>\n",
       "      <td>-0.007833</td>\n",
       "    </tr>\n",
       "  </tbody>\n",
       "</table>\n",
       "<p>1059 rows × 4 columns</p>\n",
       "</div>"
      ],
      "text/plain": [
       "            SOROS FUND MANAGEMENT LLC  PAULSON & CO.INC.   \\\n",
       "Date                                                        \n",
       "2015-03-03                  -0.001266           -0.004981   \n",
       "2015-03-04                   0.002230            0.003241   \n",
       "2015-03-05                   0.004016            0.004076   \n",
       "2015-03-06                  -0.007905           -0.003574   \n",
       "2015-03-09                   0.000582            0.004225   \n",
       "...                               ...                 ...   \n",
       "2019-04-25                  -0.000285           -0.001291   \n",
       "2019-04-26                   0.008149            0.009162   \n",
       "2019-04-29                   0.001254            0.002719   \n",
       "2019-04-30                  -0.001295           -0.002211   \n",
       "2019-05-01                  -0.005847           -0.001341   \n",
       "\n",
       "            TIGER GLOBAL MANAGEMENT LLC  BERKSHIRE HATHAWAY INC  \n",
       "Date                                                             \n",
       "2015-03-03                    -0.000496               -0.006569  \n",
       "2015-03-04                    -0.002534                0.004213  \n",
       "2015-03-05                     0.002355                0.006726  \n",
       "2015-03-06                    -0.008481               -0.013098  \n",
       "2015-03-09                     0.005843               -0.001652  \n",
       "...                                 ...                     ...  \n",
       "2019-04-25                    -0.005153                0.004848  \n",
       "2019-04-26                     0.012355                0.010434  \n",
       "2019-04-29                     0.006251                0.005223  \n",
       "2019-04-30                    -0.000259               -0.003702  \n",
       "2019-05-01                    -0.007936               -0.007833  \n",
       "\n",
       "[1059 rows x 4 columns]"
      ]
     },
<<<<<<< HEAD
     "execution_count": 49,
=======
     "execution_count": 5,
>>>>>>> 1ae967017cfd9ba8c776fb786cfdba66c6eff196
     "metadata": {},
     "output_type": "execute_result"
    }
   ],
   "source": [
    "df = df.dropna().copy()\n",
    "df"
   ]
  },
  {
   "cell_type": "code",
<<<<<<< HEAD
   "execution_count": 50,
=======
   "execution_count": 6,
>>>>>>> 1ae967017cfd9ba8c776fb786cfdba66c6eff196
   "metadata": {},
   "outputs": [
    {
     "data": {
      "text/plain": [
       "'C:\\\\Users\\\\annap\\\\documents\\\\class\\\\ucb-sfc-fin-pt-08-2020-u-c'"
      ]
     },
<<<<<<< HEAD
     "execution_count": 50,
=======
     "execution_count": 6,
>>>>>>> 1ae967017cfd9ba8c776fb786cfdba66c6eff196
     "metadata": {},
     "output_type": "execute_result"
    }
   ],
   "source": [
    "pwd"
   ]
  },
  {
   "cell_type": "code",
<<<<<<< HEAD
   "execution_count": 51,
=======
   "execution_count": null,
>>>>>>> 1ae967017cfd9ba8c776fb786cfdba66c6eff196
   "metadata": {},
   "outputs": [],
   "source": [
    "### ALGORITHMIC DAILY RETURNS"
   ]
  },
  {
   "cell_type": "code",
<<<<<<< HEAD
   "execution_count": 52,
=======
   "execution_count": 7,
>>>>>>> 1ae967017cfd9ba8c776fb786cfdba66c6eff196
   "metadata": {},
   "outputs": [],
   "source": [
    "algo_returns_csv = Path(\"~/documents/class/ucb-sfc-fin-pt-08-2020-u-c/ucb-sfc-fin-pt-08-2020-u-c/02-Homework/04-Pandas/Instructions/Starter_Code/Resources/algo_returns.csv\")\n",
    "dfar = pd.read_csv(algo_returns_csv, parse_dates=True, index_col='Date', infer_datetime_format=True)"
   ]
  },
  {
   "cell_type": "code",
<<<<<<< HEAD
   "execution_count": 53,
=======
   "execution_count": 8,
>>>>>>> 1ae967017cfd9ba8c776fb786cfdba66c6eff196
   "metadata": {},
   "outputs": [
    {
     "data": {
      "text/plain": [
       "Algo 1    0.000000\n",
       "Algo 2    0.483481\n",
       "dtype: float64"
      ]
     },
<<<<<<< HEAD
     "execution_count": 53,
=======
     "execution_count": 8,
>>>>>>> 1ae967017cfd9ba8c776fb786cfdba66c6eff196
     "metadata": {},
     "output_type": "execute_result"
    }
   ],
   "source": [
    "dfar.isnull()\n",
    "dfar.isnull().mean() * 100"
   ]
  },
  {
   "cell_type": "code",
<<<<<<< HEAD
   "execution_count": 54,
=======
   "execution_count": 9,
>>>>>>> 1ae967017cfd9ba8c776fb786cfdba66c6eff196
   "metadata": {},
   "outputs": [
    {
     "data": {
      "text/html": [
       "<div>\n",
       "<style scoped>\n",
       "    .dataframe tbody tr th:only-of-type {\n",
       "        vertical-align: middle;\n",
       "    }\n",
       "\n",
       "    .dataframe tbody tr th {\n",
       "        vertical-align: top;\n",
       "    }\n",
       "\n",
       "    .dataframe thead th {\n",
       "        text-align: right;\n",
       "    }\n",
       "</style>\n",
       "<table border=\"1\" class=\"dataframe\">\n",
       "  <thead>\n",
       "    <tr style=\"text-align: right;\">\n",
       "      <th></th>\n",
       "      <th>Algo 1</th>\n",
       "      <th>Algo 2</th>\n",
       "    </tr>\n",
       "    <tr>\n",
       "      <th>Date</th>\n",
       "      <th></th>\n",
       "      <th></th>\n",
       "    </tr>\n",
       "  </thead>\n",
       "  <tbody>\n",
       "    <tr>\n",
       "      <th>2014-06-05</th>\n",
       "      <td>0.004062</td>\n",
       "      <td>0.013285</td>\n",
       "    </tr>\n",
       "    <tr>\n",
       "      <th>2014-06-06</th>\n",
       "      <td>0.001857</td>\n",
       "      <td>0.008284</td>\n",
       "    </tr>\n",
       "    <tr>\n",
       "      <th>2014-06-09</th>\n",
       "      <td>-0.005012</td>\n",
       "      <td>0.005668</td>\n",
       "    </tr>\n",
       "    <tr>\n",
       "      <th>2014-06-10</th>\n",
       "      <td>0.004406</td>\n",
       "      <td>-0.000735</td>\n",
       "    </tr>\n",
       "    <tr>\n",
       "      <th>2014-06-11</th>\n",
       "      <td>0.004760</td>\n",
       "      <td>-0.003761</td>\n",
       "    </tr>\n",
       "    <tr>\n",
       "      <th>...</th>\n",
       "      <td>...</td>\n",
       "      <td>...</td>\n",
       "    </tr>\n",
       "    <tr>\n",
       "      <th>2019-04-25</th>\n",
       "      <td>0.000682</td>\n",
       "      <td>-0.007247</td>\n",
       "    </tr>\n",
       "    <tr>\n",
       "      <th>2019-04-26</th>\n",
       "      <td>0.002981</td>\n",
       "      <td>0.005256</td>\n",
       "    </tr>\n",
       "    <tr>\n",
       "      <th>2019-04-29</th>\n",
       "      <td>0.005208</td>\n",
       "      <td>0.002829</td>\n",
       "    </tr>\n",
       "    <tr>\n",
       "      <th>2019-04-30</th>\n",
       "      <td>-0.002944</td>\n",
       "      <td>-0.001570</td>\n",
       "    </tr>\n",
       "    <tr>\n",
       "      <th>2019-05-01</th>\n",
       "      <td>0.000094</td>\n",
       "      <td>-0.007358</td>\n",
       "    </tr>\n",
       "  </tbody>\n",
       "</table>\n",
       "<p>1235 rows × 2 columns</p>\n",
       "</div>"
      ],
      "text/plain": [
       "              Algo 1    Algo 2\n",
       "Date                          \n",
       "2014-06-05  0.004062  0.013285\n",
       "2014-06-06  0.001857  0.008284\n",
       "2014-06-09 -0.005012  0.005668\n",
       "2014-06-10  0.004406 -0.000735\n",
       "2014-06-11  0.004760 -0.003761\n",
       "...              ...       ...\n",
       "2019-04-25  0.000682 -0.007247\n",
       "2019-04-26  0.002981  0.005256\n",
       "2019-04-29  0.005208  0.002829\n",
       "2019-04-30 -0.002944 -0.001570\n",
       "2019-05-01  0.000094 -0.007358\n",
       "\n",
       "[1235 rows x 2 columns]"
      ]
     },
<<<<<<< HEAD
     "execution_count": 54,
=======
     "execution_count": 9,
>>>>>>> 1ae967017cfd9ba8c776fb786cfdba66c6eff196
     "metadata": {},
     "output_type": "execute_result"
    }
   ],
   "source": [
    "dfar = dfar.dropna().copy()\n",
    "dfar"
   ]
  },
  {
   "cell_type": "code",
<<<<<<< HEAD
   "execution_count": 55,
=======
   "execution_count": 10,
>>>>>>> 1ae967017cfd9ba8c776fb786cfdba66c6eff196
   "metadata": {},
   "outputs": [
    {
     "data": {
      "text/plain": [
       "Algo 1    0.0\n",
       "Algo 2    0.0\n",
       "dtype: float64"
      ]
     },
<<<<<<< HEAD
     "execution_count": 55,
=======
     "execution_count": 10,
>>>>>>> 1ae967017cfd9ba8c776fb786cfdba66c6eff196
     "metadata": {},
     "output_type": "execute_result"
    }
   ],
   "source": [
    "dfar.isnull()\n",
    "dfar.isnull().mean() * 100"
   ]
  },
  {
   "cell_type": "code",
<<<<<<< HEAD
   "execution_count": 56,
=======
   "execution_count": null,
>>>>>>> 1ae967017cfd9ba8c776fb786cfdba66c6eff196
   "metadata": {},
   "outputs": [],
   "source": [
    "### S&P 500 RETURNS"
   ]
  },
  {
   "cell_type": "code",
<<<<<<< HEAD
   "execution_count": 57,
=======
   "execution_count": 11,
>>>>>>> 1ae967017cfd9ba8c776fb786cfdba66c6eff196
   "metadata": {},
   "outputs": [],
   "source": [
    "sp500_returns_csv = Path(\"~/documents/class/ucb-sfc-fin-pt-08-2020-u-c/ucb-sfc-fin-pt-08-2020-u-c/02-Homework/04-Pandas/Instructions/Starter_Code/Resources/sp500_history.csv\")\n",
    "dfsp = pd.read_csv(sp500_returns_csv, parse_dates=True, index_col='Date', infer_datetime_format=True)"
   ]
  },
  {
   "cell_type": "code",
<<<<<<< HEAD
   "execution_count": 58,
=======
   "execution_count": 12,
>>>>>>> 1ae967017cfd9ba8c776fb786cfdba66c6eff196
   "metadata": {},
   "outputs": [
    {
     "data": {
      "text/html": [
       "<div>\n",
       "<style scoped>\n",
       "    .dataframe tbody tr th:only-of-type {\n",
       "        vertical-align: middle;\n",
       "    }\n",
       "\n",
       "    .dataframe tbody tr th {\n",
       "        vertical-align: top;\n",
       "    }\n",
       "\n",
       "    .dataframe thead th {\n",
       "        text-align: right;\n",
       "    }\n",
       "</style>\n",
       "<table border=\"1\" class=\"dataframe\">\n",
       "  <thead>\n",
       "    <tr style=\"text-align: right;\">\n",
       "      <th></th>\n",
       "      <th>Close</th>\n",
       "    </tr>\n",
       "    <tr>\n",
       "      <th>Date</th>\n",
       "      <th></th>\n",
       "    </tr>\n",
       "  </thead>\n",
       "  <tbody>\n",
       "    <tr>\n",
       "      <th>2019-04-23</th>\n",
       "      <td>$2933.68</td>\n",
       "    </tr>\n",
       "    <tr>\n",
       "      <th>2019-04-22</th>\n",
       "      <td>$2907.97</td>\n",
       "    </tr>\n",
       "    <tr>\n",
       "      <th>2019-04-18</th>\n",
       "      <td>$2905.03</td>\n",
       "    </tr>\n",
       "    <tr>\n",
       "      <th>2019-04-17</th>\n",
       "      <td>$2900.45</td>\n",
       "    </tr>\n",
       "    <tr>\n",
       "      <th>2019-04-16</th>\n",
       "      <td>$2907.06</td>\n",
       "    </tr>\n",
       "  </tbody>\n",
       "</table>\n",
       "</div>"
      ],
      "text/plain": [
       "               Close\n",
       "Date                \n",
       "2019-04-23  $2933.68\n",
       "2019-04-22  $2907.97\n",
       "2019-04-18  $2905.03\n",
       "2019-04-17  $2900.45\n",
       "2019-04-16  $2907.06"
      ]
     },
<<<<<<< HEAD
     "execution_count": 58,
=======
     "execution_count": 12,
>>>>>>> 1ae967017cfd9ba8c776fb786cfdba66c6eff196
     "metadata": {},
     "output_type": "execute_result"
    }
   ],
   "source": [
    "dfsp.head()"
   ]
  },
  {
   "cell_type": "code",
<<<<<<< HEAD
   "execution_count": 59,
=======
   "execution_count": 13,
>>>>>>> 1ae967017cfd9ba8c776fb786cfdba66c6eff196
   "metadata": {},
   "outputs": [
    {
     "data": {
      "text/plain": [
       "Close    object\n",
       "dtype: object"
      ]
     },
<<<<<<< HEAD
     "execution_count": 59,
=======
     "execution_count": 13,
>>>>>>> 1ae967017cfd9ba8c776fb786cfdba66c6eff196
     "metadata": {},
     "output_type": "execute_result"
    }
   ],
   "source": [
    "dfsp.dtypes"
   ]
  },
  {
   "cell_type": "code",
<<<<<<< HEAD
   "execution_count": 60,
=======
   "execution_count": 14,
>>>>>>> 1ae967017cfd9ba8c776fb786cfdba66c6eff196
   "metadata": {},
   "outputs": [],
   "source": [
    "dfsp[\"Close\"] = dfsp[\"Close\"].str.replace(\"$\", \"\")\n",
    "dfsp[\"Close\"]\n",
    "dfsp[\"Close\"] = dfsp[\"Close\"].astype(\"float\")"
   ]
  },
  {
   "cell_type": "code",
<<<<<<< HEAD
   "execution_count": 61,
=======
   "execution_count": 15,
>>>>>>> 1ae967017cfd9ba8c776fb786cfdba66c6eff196
   "metadata": {},
   "outputs": [],
   "source": [
    "dfsp[\"Close\"] = dfsp[\"Close\"].astype(\"float\")"
   ]
  },
  {
   "cell_type": "code",
<<<<<<< HEAD
   "execution_count": 62,
=======
   "execution_count": 16,
>>>>>>> 1ae967017cfd9ba8c776fb786cfdba66c6eff196
   "metadata": {},
   "outputs": [
    {
     "data": {
      "text/plain": [
<<<<<<< HEAD
       "<matplotlib.axes._subplots.AxesSubplot at 0x205566358e0>"
      ]
     },
     "execution_count": 62,
=======
       "<matplotlib.axes._subplots.AxesSubplot at 0x205534c0df0>"
      ]
     },
     "execution_count": 16,
>>>>>>> 1ae967017cfd9ba8c776fb786cfdba66c6eff196
     "metadata": {},
     "output_type": "execute_result"
    },
    {
     "data": {
      "image/png": "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\n",
      "text/plain": [
       "<Figure size 432x288 with 1 Axes>"
      ]
     },
     "metadata": {
      "needs_background": "light"
     },
     "output_type": "display_data"
    }
   ],
   "source": [
    "dfsp.plot()"
   ]
  },
  {
   "cell_type": "code",
<<<<<<< HEAD
   "execution_count": 63,
=======
   "execution_count": 17,
>>>>>>> 1ae967017cfd9ba8c776fb786cfdba66c6eff196
   "metadata": {},
   "outputs": [
    {
     "data": {
      "text/html": [
       "<div>\n",
       "<style scoped>\n",
       "    .dataframe tbody tr th:only-of-type {\n",
       "        vertical-align: middle;\n",
       "    }\n",
       "\n",
       "    .dataframe tbody tr th {\n",
       "        vertical-align: top;\n",
       "    }\n",
       "\n",
       "    .dataframe thead th {\n",
       "        text-align: right;\n",
       "    }\n",
       "</style>\n",
       "<table border=\"1\" class=\"dataframe\">\n",
       "  <thead>\n",
       "    <tr style=\"text-align: right;\">\n",
       "      <th></th>\n",
       "      <th>Close</th>\n",
       "    </tr>\n",
       "    <tr>\n",
       "      <th>Date</th>\n",
       "      <th></th>\n",
       "    </tr>\n",
       "  </thead>\n",
       "  <tbody>\n",
       "    <tr>\n",
       "      <th>2019-04-23</th>\n",
       "      <td>NaN</td>\n",
       "    </tr>\n",
       "    <tr>\n",
       "      <th>2019-04-22</th>\n",
       "      <td>-0.008764</td>\n",
       "    </tr>\n",
       "    <tr>\n",
       "      <th>2019-04-18</th>\n",
       "      <td>-0.001011</td>\n",
       "    </tr>\n",
       "    <tr>\n",
       "      <th>2019-04-17</th>\n",
       "      <td>-0.001577</td>\n",
       "    </tr>\n",
       "    <tr>\n",
       "      <th>2019-04-16</th>\n",
       "      <td>0.002279</td>\n",
       "    </tr>\n",
       "  </tbody>\n",
       "</table>\n",
       "</div>"
      ],
      "text/plain": [
       "               Close\n",
       "Date                \n",
       "2019-04-23       NaN\n",
       "2019-04-22 -0.008764\n",
       "2019-04-18 -0.001011\n",
       "2019-04-17 -0.001577\n",
       "2019-04-16  0.002279"
      ]
     },
<<<<<<< HEAD
     "execution_count": 63,
=======
     "execution_count": 17,
>>>>>>> 1ae967017cfd9ba8c776fb786cfdba66c6eff196
     "metadata": {},
     "output_type": "execute_result"
    }
   ],
   "source": [
    "daily_returns = dfsp.pct_change()\n",
    "daily_returns.head()"
   ]
  },
  {
   "cell_type": "code",
<<<<<<< HEAD
   "execution_count": 64,
=======
   "execution_count": 18,
>>>>>>> 1ae967017cfd9ba8c776fb786cfdba66c6eff196
   "metadata": {},
   "outputs": [
    {
     "data": {
      "text/plain": [
       "Close    0.0\n",
       "dtype: float64"
      ]
     },
<<<<<<< HEAD
     "execution_count": 64,
=======
     "execution_count": 18,
>>>>>>> 1ae967017cfd9ba8c776fb786cfdba66c6eff196
     "metadata": {},
     "output_type": "execute_result"
    }
   ],
   "source": [
    "dfsp.isnull()\n",
    "dfsp.isnull().mean() * 100"
   ]
  },
  {
   "cell_type": "code",
<<<<<<< HEAD
   "execution_count": 65,
=======
   "execution_count": 19,
>>>>>>> 1ae967017cfd9ba8c776fb786cfdba66c6eff196
   "metadata": {},
   "outputs": [
    {
     "data": {
      "text/html": [
       "<div>\n",
       "<style scoped>\n",
       "    .dataframe tbody tr th:only-of-type {\n",
       "        vertical-align: middle;\n",
       "    }\n",
       "\n",
       "    .dataframe tbody tr th {\n",
       "        vertical-align: top;\n",
       "    }\n",
       "\n",
       "    .dataframe thead th {\n",
       "        text-align: right;\n",
       "    }\n",
       "</style>\n",
       "<table border=\"1\" class=\"dataframe\">\n",
       "  <thead>\n",
       "    <tr style=\"text-align: right;\">\n",
       "      <th></th>\n",
       "      <th>Close</th>\n",
       "    </tr>\n",
       "    <tr>\n",
       "      <th>Date</th>\n",
       "      <th></th>\n",
       "    </tr>\n",
       "  </thead>\n",
       "  <tbody>\n",
       "    <tr>\n",
       "      <th>2019-04-23</th>\n",
       "      <td>2933.68</td>\n",
       "    </tr>\n",
       "    <tr>\n",
       "      <th>2019-04-22</th>\n",
       "      <td>2907.97</td>\n",
       "    </tr>\n",
       "    <tr>\n",
       "      <th>2019-04-18</th>\n",
       "      <td>2905.03</td>\n",
       "    </tr>\n",
       "    <tr>\n",
       "      <th>2019-04-17</th>\n",
       "      <td>2900.45</td>\n",
       "    </tr>\n",
       "    <tr>\n",
       "      <th>2019-04-16</th>\n",
       "      <td>2907.06</td>\n",
       "    </tr>\n",
       "    <tr>\n",
       "      <th>...</th>\n",
       "      <td>...</td>\n",
       "    </tr>\n",
       "    <tr>\n",
       "      <th>2012-10-05</th>\n",
       "      <td>1460.93</td>\n",
       "    </tr>\n",
       "    <tr>\n",
       "      <th>2012-10-04</th>\n",
       "      <td>1461.40</td>\n",
       "    </tr>\n",
       "    <tr>\n",
       "      <th>2012-10-03</th>\n",
       "      <td>1450.99</td>\n",
       "    </tr>\n",
       "    <tr>\n",
       "      <th>2012-10-02</th>\n",
       "      <td>1445.75</td>\n",
       "    </tr>\n",
       "    <tr>\n",
       "      <th>2012-10-01</th>\n",
       "      <td>1444.49</td>\n",
       "    </tr>\n",
       "  </tbody>\n",
       "</table>\n",
       "<p>1649 rows × 1 columns</p>\n",
       "</div>"
      ],
      "text/plain": [
       "              Close\n",
       "Date               \n",
       "2019-04-23  2933.68\n",
       "2019-04-22  2907.97\n",
       "2019-04-18  2905.03\n",
       "2019-04-17  2900.45\n",
       "2019-04-16  2907.06\n",
       "...             ...\n",
       "2012-10-05  1460.93\n",
       "2012-10-04  1461.40\n",
       "2012-10-03  1450.99\n",
       "2012-10-02  1445.75\n",
       "2012-10-01  1444.49\n",
       "\n",
       "[1649 rows x 1 columns]"
      ]
     },
<<<<<<< HEAD
     "execution_count": 65,
=======
     "execution_count": 19,
>>>>>>> 1ae967017cfd9ba8c776fb786cfdba66c6eff196
     "metadata": {},
     "output_type": "execute_result"
    }
   ],
   "source": [
    "dfsp = dfsp.dropna().copy()\n",
    "dfsp"
   ]
  },
  {
   "cell_type": "code",
<<<<<<< HEAD
   "execution_count": 66,
=======
   "execution_count": 20,
>>>>>>> 1ae967017cfd9ba8c776fb786cfdba66c6eff196
   "metadata": {},
   "outputs": [
    {
     "data": {
      "text/html": [
       "<div>\n",
       "<style scoped>\n",
       "    .dataframe tbody tr th:only-of-type {\n",
       "        vertical-align: middle;\n",
       "    }\n",
       "\n",
       "    .dataframe tbody tr th {\n",
       "        vertical-align: top;\n",
       "    }\n",
       "\n",
       "    .dataframe thead th {\n",
       "        text-align: right;\n",
       "    }\n",
       "</style>\n",
       "<table border=\"1\" class=\"dataframe\">\n",
       "  <thead>\n",
       "    <tr style=\"text-align: right;\">\n",
       "      <th></th>\n",
       "      <th>S&amp;P 500</th>\n",
       "    </tr>\n",
       "    <tr>\n",
       "      <th>Date</th>\n",
       "      <th></th>\n",
       "    </tr>\n",
       "  </thead>\n",
       "  <tbody>\n",
       "    <tr>\n",
       "      <th>2019-04-23</th>\n",
       "      <td>2933.68</td>\n",
       "    </tr>\n",
       "    <tr>\n",
       "      <th>2019-04-22</th>\n",
       "      <td>2907.97</td>\n",
       "    </tr>\n",
       "    <tr>\n",
       "      <th>2019-04-18</th>\n",
       "      <td>2905.03</td>\n",
       "    </tr>\n",
       "    <tr>\n",
       "      <th>2019-04-17</th>\n",
       "      <td>2900.45</td>\n",
       "    </tr>\n",
       "    <tr>\n",
       "      <th>2019-04-16</th>\n",
       "      <td>2907.06</td>\n",
       "    </tr>\n",
       "  </tbody>\n",
       "</table>\n",
       "</div>"
      ],
      "text/plain": [
       "            S&P 500\n",
       "Date               \n",
       "2019-04-23  2933.68\n",
       "2019-04-22  2907.97\n",
       "2019-04-18  2905.03\n",
       "2019-04-17  2900.45\n",
       "2019-04-16  2907.06"
      ]
     },
<<<<<<< HEAD
     "execution_count": 66,
=======
     "execution_count": 20,
>>>>>>> 1ae967017cfd9ba8c776fb786cfdba66c6eff196
     "metadata": {},
     "output_type": "execute_result"
    }
   ],
   "source": [
    "dfsp = dfsp.rename(columns={\"Close\" : \"S&P 500\"})\n",
    "dfsp.head()"
   ]
  },
  {
   "cell_type": "code",
<<<<<<< HEAD
   "execution_count": 67,
=======
   "execution_count": null,
>>>>>>> 1ae967017cfd9ba8c776fb786cfdba66c6eff196
   "metadata": {},
   "outputs": [],
   "source": [
    "###COMBINE DATA SETS"
   ]
  },
  {
   "cell_type": "code",
<<<<<<< HEAD
   "execution_count": 68,
=======
   "execution_count": 21,
>>>>>>> 1ae967017cfd9ba8c776fb786cfdba66c6eff196
   "metadata": {},
   "outputs": [
    {
     "data": {
      "text/html": [
       "<div>\n",
       "<style scoped>\n",
       "    .dataframe tbody tr th:only-of-type {\n",
       "        vertical-align: middle;\n",
       "    }\n",
       "\n",
       "    .dataframe tbody tr th {\n",
       "        vertical-align: top;\n",
       "    }\n",
       "\n",
       "    .dataframe thead th {\n",
       "        text-align: right;\n",
       "    }\n",
       "</style>\n",
       "<table border=\"1\" class=\"dataframe\">\n",
       "  <thead>\n",
       "    <tr style=\"text-align: right;\">\n",
       "      <th></th>\n",
       "      <th>SOROS FUND MANAGEMENT LLC</th>\n",
       "      <th>PAULSON &amp; CO.INC.</th>\n",
       "      <th>TIGER GLOBAL MANAGEMENT LLC</th>\n",
       "      <th>BERKSHIRE HATHAWAY INC</th>\n",
       "      <th>Algo 1</th>\n",
       "      <th>Algo 2</th>\n",
<<<<<<< HEAD
       "      <th>Close</th>\n",
=======
       "      <th>S&amp;P 500</th>\n",
>>>>>>> 1ae967017cfd9ba8c776fb786cfdba66c6eff196
       "    </tr>\n",
       "    <tr>\n",
       "      <th>Date</th>\n",
       "      <th></th>\n",
       "      <th></th>\n",
       "      <th></th>\n",
       "      <th></th>\n",
       "      <th></th>\n",
       "      <th></th>\n",
       "      <th></th>\n",
       "    </tr>\n",
       "  </thead>\n",
       "  <tbody>\n",
       "    <tr>\n",
       "      <th>2015-03-03</th>\n",
       "      <td>-0.001266</td>\n",
       "      <td>-0.004981</td>\n",
       "      <td>-0.000496</td>\n",
       "      <td>-0.006569</td>\n",
       "      <td>-0.001942</td>\n",
       "      <td>-0.000949</td>\n",
<<<<<<< HEAD
       "      <td>0.004408</td>\n",
=======
       "      <td>2107.78</td>\n",
>>>>>>> 1ae967017cfd9ba8c776fb786cfdba66c6eff196
       "    </tr>\n",
       "    <tr>\n",
       "      <th>2015-03-04</th>\n",
       "      <td>0.002230</td>\n",
       "      <td>0.003241</td>\n",
       "      <td>-0.002534</td>\n",
       "      <td>0.004213</td>\n",
       "      <td>-0.008589</td>\n",
       "      <td>0.002416</td>\n",
<<<<<<< HEAD
       "      <td>-0.001195</td>\n",
=======
       "      <td>2098.53</td>\n",
>>>>>>> 1ae967017cfd9ba8c776fb786cfdba66c6eff196
       "    </tr>\n",
       "    <tr>\n",
       "      <th>2015-03-05</th>\n",
       "      <td>0.004016</td>\n",
       "      <td>0.004076</td>\n",
       "      <td>0.002355</td>\n",
       "      <td>0.006726</td>\n",
       "      <td>-0.000955</td>\n",
       "      <td>0.004323</td>\n",
<<<<<<< HEAD
       "      <td>0.014378</td>\n",
=======
       "      <td>2101.04</td>\n",
>>>>>>> 1ae967017cfd9ba8c776fb786cfdba66c6eff196
       "    </tr>\n",
       "    <tr>\n",
       "      <th>2015-03-06</th>\n",
       "      <td>-0.007905</td>\n",
       "      <td>-0.003574</td>\n",
       "      <td>-0.008481</td>\n",
       "      <td>-0.013098</td>\n",
       "      <td>-0.004957</td>\n",
       "      <td>-0.011460</td>\n",
<<<<<<< HEAD
       "      <td>-0.003929</td>\n",
=======
       "      <td>2071.26</td>\n",
>>>>>>> 1ae967017cfd9ba8c776fb786cfdba66c6eff196
       "    </tr>\n",
       "    <tr>\n",
       "      <th>2015-03-09</th>\n",
       "      <td>0.000582</td>\n",
       "      <td>0.004225</td>\n",
       "      <td>0.005843</td>\n",
       "      <td>-0.001652</td>\n",
       "      <td>-0.005447</td>\n",
       "      <td>0.001303</td>\n",
<<<<<<< HEAD
       "      <td>0.017254</td>\n",
=======
       "      <td>2079.43</td>\n",
>>>>>>> 1ae967017cfd9ba8c776fb786cfdba66c6eff196
       "    </tr>\n",
       "    <tr>\n",
       "      <th>...</th>\n",
       "      <td>...</td>\n",
       "      <td>...</td>\n",
       "      <td>...</td>\n",
       "      <td>...</td>\n",
       "      <td>...</td>\n",
       "      <td>...</td>\n",
       "      <td>...</td>\n",
       "    </tr>\n",
       "    <tr>\n",
       "      <th>2019-04-16</th>\n",
       "      <td>0.002699</td>\n",
       "      <td>0.000388</td>\n",
       "      <td>-0.000831</td>\n",
       "      <td>0.000837</td>\n",
       "      <td>-0.006945</td>\n",
       "      <td>0.002899</td>\n",
<<<<<<< HEAD
       "      <td>0.002279</td>\n",
=======
       "      <td>2907.06</td>\n",
>>>>>>> 1ae967017cfd9ba8c776fb786cfdba66c6eff196
       "    </tr>\n",
       "    <tr>\n",
       "      <th>2019-04-17</th>\n",
       "      <td>-0.002897</td>\n",
       "      <td>-0.006467</td>\n",
       "      <td>-0.004409</td>\n",
       "      <td>0.003222</td>\n",
       "      <td>-0.010301</td>\n",
       "      <td>-0.005228</td>\n",
<<<<<<< HEAD
       "      <td>-0.001577</td>\n",
=======
       "      <td>2900.45</td>\n",
>>>>>>> 1ae967017cfd9ba8c776fb786cfdba66c6eff196
       "    </tr>\n",
       "    <tr>\n",
       "      <th>2019-04-18</th>\n",
       "      <td>0.001448</td>\n",
       "      <td>0.001222</td>\n",
       "      <td>0.000582</td>\n",
       "      <td>0.001916</td>\n",
       "      <td>-0.000588</td>\n",
       "      <td>-0.001229</td>\n",
<<<<<<< HEAD
       "      <td>-0.001011</td>\n",
=======
       "      <td>2905.03</td>\n",
>>>>>>> 1ae967017cfd9ba8c776fb786cfdba66c6eff196
       "    </tr>\n",
       "    <tr>\n",
       "      <th>2019-04-22</th>\n",
       "      <td>-0.002586</td>\n",
       "      <td>-0.007333</td>\n",
       "      <td>-0.003640</td>\n",
       "      <td>-0.001088</td>\n",
       "      <td>0.000677</td>\n",
       "      <td>-0.001936</td>\n",
<<<<<<< HEAD
       "      <td>-0.008764</td>\n",
=======
       "      <td>2907.97</td>\n",
>>>>>>> 1ae967017cfd9ba8c776fb786cfdba66c6eff196
       "    </tr>\n",
       "    <tr>\n",
       "      <th>2019-04-23</th>\n",
       "      <td>0.007167</td>\n",
       "      <td>0.003485</td>\n",
       "      <td>0.006472</td>\n",
       "      <td>0.013278</td>\n",
       "      <td>0.004969</td>\n",
       "      <td>0.009622</td>\n",
<<<<<<< HEAD
       "      <td>NaN</td>\n",
=======
       "      <td>2933.68</td>\n",
>>>>>>> 1ae967017cfd9ba8c776fb786cfdba66c6eff196
       "    </tr>\n",
       "  </tbody>\n",
       "</table>\n",
       "<p>1043 rows × 7 columns</p>\n",
       "</div>"
      ],
      "text/plain": [
       "            SOROS FUND MANAGEMENT LLC  PAULSON & CO.INC.   \\\n",
       "Date                                                        \n",
       "2015-03-03                  -0.001266           -0.004981   \n",
       "2015-03-04                   0.002230            0.003241   \n",
       "2015-03-05                   0.004016            0.004076   \n",
       "2015-03-06                  -0.007905           -0.003574   \n",
       "2015-03-09                   0.000582            0.004225   \n",
       "...                               ...                 ...   \n",
       "2019-04-16                   0.002699            0.000388   \n",
       "2019-04-17                  -0.002897           -0.006467   \n",
       "2019-04-18                   0.001448            0.001222   \n",
       "2019-04-22                  -0.002586           -0.007333   \n",
       "2019-04-23                   0.007167            0.003485   \n",
       "\n",
       "            TIGER GLOBAL MANAGEMENT LLC  BERKSHIRE HATHAWAY INC    Algo 1  \\\n",
       "Date                                                                        \n",
       "2015-03-03                    -0.000496               -0.006569 -0.001942   \n",
       "2015-03-04                    -0.002534                0.004213 -0.008589   \n",
       "2015-03-05                     0.002355                0.006726 -0.000955   \n",
       "2015-03-06                    -0.008481               -0.013098 -0.004957   \n",
       "2015-03-09                     0.005843               -0.001652 -0.005447   \n",
       "...                                 ...                     ...       ...   \n",
       "2019-04-16                    -0.000831                0.000837 -0.006945   \n",
       "2019-04-17                    -0.004409                0.003222 -0.010301   \n",
       "2019-04-18                     0.000582                0.001916 -0.000588   \n",
       "2019-04-22                    -0.003640               -0.001088  0.000677   \n",
       "2019-04-23                     0.006472                0.013278  0.004969   \n",
       "\n",
<<<<<<< HEAD
       "              Algo 2     Close  \n",
       "Date                            \n",
       "2015-03-03 -0.000949  0.004408  \n",
       "2015-03-04  0.002416 -0.001195  \n",
       "2015-03-05  0.004323  0.014378  \n",
       "2015-03-06 -0.011460 -0.003929  \n",
       "2015-03-09  0.001303  0.017254  \n",
       "...              ...       ...  \n",
       "2019-04-16  0.002899  0.002279  \n",
       "2019-04-17 -0.005228 -0.001577  \n",
       "2019-04-18 -0.001229 -0.001011  \n",
       "2019-04-22 -0.001936 -0.008764  \n",
       "2019-04-23  0.009622       NaN  \n",
=======
       "              Algo 2  S&P 500  \n",
       "Date                           \n",
       "2015-03-03 -0.000949  2107.78  \n",
       "2015-03-04  0.002416  2098.53  \n",
       "2015-03-05  0.004323  2101.04  \n",
       "2015-03-06 -0.011460  2071.26  \n",
       "2015-03-09  0.001303  2079.43  \n",
       "...              ...      ...  \n",
       "2019-04-16  0.002899  2907.06  \n",
       "2019-04-17 -0.005228  2900.45  \n",
       "2019-04-18 -0.001229  2905.03  \n",
       "2019-04-22 -0.001936  2907.97  \n",
       "2019-04-23  0.009622  2933.68  \n",
>>>>>>> 1ae967017cfd9ba8c776fb786cfdba66c6eff196
       "\n",
       "[1043 rows x 7 columns]"
      ]
     },
<<<<<<< HEAD
     "execution_count": 68,
=======
     "execution_count": 21,
>>>>>>> 1ae967017cfd9ba8c776fb786cfdba66c6eff196
     "metadata": {},
     "output_type": "execute_result"
    }
   ],
   "source": [
<<<<<<< HEAD
    "joined_data_rows = pd.concat([df, dfar, daily_returns], axis=\"columns\", join=\"inner\")\n",
=======
    "joined_data_rows = pd.concat([df, dfar, dfsp], axis=\"columns\", join=\"inner\")\n",
>>>>>>> 1ae967017cfd9ba8c776fb786cfdba66c6eff196
    "joined_data_rows"
   ]
  },
  {
   "cell_type": "code",
<<<<<<< HEAD
   "execution_count": 69,
=======
   "execution_count": null,
>>>>>>> 1ae967017cfd9ba8c776fb786cfdba66c6eff196
   "metadata": {},
   "outputs": [],
   "source": [
    "### PERFORMANCE"
   ]
  },
  {
   "cell_type": "code",
<<<<<<< HEAD
   "execution_count": 70,
=======
   "execution_count": 22,
>>>>>>> 1ae967017cfd9ba8c776fb786cfdba66c6eff196
   "metadata": {},
   "outputs": [
    {
     "data": {
      "text/html": [
       "<div>\n",
       "<style scoped>\n",
       "    .dataframe tbody tr th:only-of-type {\n",
       "        vertical-align: middle;\n",
       "    }\n",
       "\n",
       "    .dataframe tbody tr th {\n",
       "        vertical-align: top;\n",
       "    }\n",
       "\n",
       "    .dataframe thead th {\n",
       "        text-align: right;\n",
       "    }\n",
       "</style>\n",
       "<table border=\"1\" class=\"dataframe\">\n",
       "  <thead>\n",
       "    <tr style=\"text-align: right;\">\n",
       "      <th></th>\n",
       "      <th>SOROS FUND MANAGEMENT LLC</th>\n",
       "      <th>PAULSON &amp; CO.INC.</th>\n",
       "      <th>TIGER GLOBAL MANAGEMENT LLC</th>\n",
       "      <th>BERKSHIRE HATHAWAY INC</th>\n",
       "      <th>Algo 1</th>\n",
       "      <th>Algo 2</th>\n",
<<<<<<< HEAD
       "      <th>Close</th>\n",
=======
       "      <th>S&amp;P 500</th>\n",
>>>>>>> 1ae967017cfd9ba8c776fb786cfdba66c6eff196
       "    </tr>\n",
       "    <tr>\n",
       "      <th>Date</th>\n",
       "      <th></th>\n",
       "      <th></th>\n",
       "      <th></th>\n",
       "      <th></th>\n",
       "      <th></th>\n",
       "      <th></th>\n",
       "      <th></th>\n",
       "    </tr>\n",
       "  </thead>\n",
       "  <tbody>\n",
       "    <tr>\n",
       "      <th>2015-03-03</th>\n",
       "      <td>NaN</td>\n",
       "      <td>NaN</td>\n",
       "      <td>NaN</td>\n",
       "      <td>NaN</td>\n",
       "      <td>NaN</td>\n",
       "      <td>NaN</td>\n",
       "      <td>NaN</td>\n",
       "    </tr>\n",
       "    <tr>\n",
       "      <th>2015-03-04</th>\n",
       "      <td>-2.762070</td>\n",
       "      <td>-1.650792</td>\n",
       "      <td>4.113646</td>\n",
       "      <td>-1.641381</td>\n",
       "      <td>3.422374</td>\n",
       "      <td>-3.544766</td>\n",
<<<<<<< HEAD
       "      <td>-1.271027</td>\n",
=======
       "      <td>-0.004389</td>\n",
>>>>>>> 1ae967017cfd9ba8c776fb786cfdba66c6eff196
       "    </tr>\n",
       "    <tr>\n",
       "      <th>2015-03-05</th>\n",
       "      <td>0.800968</td>\n",
       "      <td>0.257544</td>\n",
       "      <td>-1.929234</td>\n",
       "      <td>0.596558</td>\n",
       "      <td>-0.888803</td>\n",
       "      <td>0.789231</td>\n",
<<<<<<< HEAD
       "      <td>-13.035127</td>\n",
=======
       "      <td>0.001196</td>\n",
>>>>>>> 1ae967017cfd9ba8c776fb786cfdba66c6eff196
       "    </tr>\n",
       "    <tr>\n",
       "      <th>2015-03-06</th>\n",
       "      <td>-2.968465</td>\n",
       "      <td>-1.876837</td>\n",
       "      <td>-4.601872</td>\n",
       "      <td>-2.947282</td>\n",
       "      <td>4.190043</td>\n",
       "      <td>-3.650914</td>\n",
<<<<<<< HEAD
       "      <td>-1.273267</td>\n",
=======
       "      <td>-0.014174</td>\n",
>>>>>>> 1ae967017cfd9ba8c776fb786cfdba66c6eff196
       "    </tr>\n",
       "    <tr>\n",
       "      <th>2015-03-09</th>\n",
       "      <td>-1.073656</td>\n",
       "      <td>-2.182252</td>\n",
       "      <td>-1.688907</td>\n",
       "      <td>-0.873840</td>\n",
       "      <td>0.098917</td>\n",
       "      <td>-1.113716</td>\n",
<<<<<<< HEAD
       "      <td>-5.391499</td>\n",
=======
       "      <td>0.003944</td>\n",
>>>>>>> 1ae967017cfd9ba8c776fb786cfdba66c6eff196
       "    </tr>\n",
       "  </tbody>\n",
       "</table>\n",
       "</div>"
      ],
      "text/plain": [
       "            SOROS FUND MANAGEMENT LLC  PAULSON & CO.INC.   \\\n",
       "Date                                                        \n",
       "2015-03-03                        NaN                 NaN   \n",
       "2015-03-04                  -2.762070           -1.650792   \n",
       "2015-03-05                   0.800968            0.257544   \n",
       "2015-03-06                  -2.968465           -1.876837   \n",
       "2015-03-09                  -1.073656           -2.182252   \n",
       "\n",
       "            TIGER GLOBAL MANAGEMENT LLC  BERKSHIRE HATHAWAY INC    Algo 1  \\\n",
       "Date                                                                        \n",
       "2015-03-03                          NaN                     NaN       NaN   \n",
       "2015-03-04                     4.113646               -1.641381  3.422374   \n",
       "2015-03-05                    -1.929234                0.596558 -0.888803   \n",
       "2015-03-06                    -4.601872               -2.947282  4.190043   \n",
       "2015-03-09                    -1.688907               -0.873840  0.098917   \n",
       "\n",
<<<<<<< HEAD
       "              Algo 2      Close  \n",
       "Date                             \n",
       "2015-03-03       NaN        NaN  \n",
       "2015-03-04 -3.544766  -1.271027  \n",
       "2015-03-05  0.789231 -13.035127  \n",
       "2015-03-06 -3.650914  -1.273267  \n",
       "2015-03-09 -1.113716  -5.391499  "
      ]
     },
     "execution_count": 70,
=======
       "              Algo 2   S&P 500  \n",
       "Date                            \n",
       "2015-03-03       NaN       NaN  \n",
       "2015-03-04 -3.544766 -0.004389  \n",
       "2015-03-05  0.789231  0.001196  \n",
       "2015-03-06 -3.650914 -0.014174  \n",
       "2015-03-09 -1.113716  0.003944  "
      ]
     },
     "execution_count": 22,
>>>>>>> 1ae967017cfd9ba8c776fb786cfdba66c6eff196
     "metadata": {},
     "output_type": "execute_result"
    }
   ],
   "source": [
    "jdr_dailyreturns = joined_data_rows.pct_change()\n",
    "jdr_dailyreturns.head()"
   ]
  },
  {
   "cell_type": "code",
<<<<<<< HEAD
   "execution_count": 71,
=======
   "execution_count": 23,
>>>>>>> 1ae967017cfd9ba8c776fb786cfdba66c6eff196
   "metadata": {},
   "outputs": [
    {
     "data": {
      "text/plain": [
<<<<<<< HEAD
       "<matplotlib.axes._subplots.AxesSubplot at 0x205569ae2b0>"
      ]
     },
     "execution_count": 71,
=======
       "<matplotlib.axes._subplots.AxesSubplot at 0x205534596d0>"
      ]
     },
     "execution_count": 23,
>>>>>>> 1ae967017cfd9ba8c776fb786cfdba66c6eff196
     "metadata": {},
     "output_type": "execute_result"
    },
    {
     "data": {
<<<<<<< HEAD
      "image/png": "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\n",
=======
      "image/png": "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\n",
>>>>>>> 1ae967017cfd9ba8c776fb786cfdba66c6eff196
      "text/plain": [
       "<Figure size 432x288 with 1 Axes>"
      ]
     },
     "metadata": {
      "needs_background": "light"
     },
     "output_type": "display_data"
    }
   ],
   "source": [
    "jdr_dailyreturns.plot()"
   ]
  },
  {
   "cell_type": "code",
<<<<<<< HEAD
   "execution_count": 72,
=======
   "execution_count": 24,
>>>>>>> 1ae967017cfd9ba8c776fb786cfdba66c6eff196
   "metadata": {},
   "outputs": [],
   "source": [
    "#cumulative returns, cant find"
   ]
  },
  {
   "cell_type": "code",
<<<<<<< HEAD
   "execution_count": 73,
=======
   "execution_count": 25,
>>>>>>> 1ae967017cfd9ba8c776fb786cfdba66c6eff196
   "metadata": {},
   "outputs": [],
   "source": [
    "### RISK"
   ]
  },
  {
   "cell_type": "code",
<<<<<<< HEAD
   "execution_count": 74,
=======
   "execution_count": 26,
>>>>>>> 1ae967017cfd9ba8c776fb786cfdba66c6eff196
   "metadata": {},
   "outputs": [
    {
     "data": {
      "text/plain": [
<<<<<<< HEAD
       "<matplotlib.axes._subplots.AxesSubplot at 0x20556af61c0>"
      ]
     },
     "execution_count": 74,
=======
       "<matplotlib.axes._subplots.AxesSubplot at 0x20553c63ac0>"
      ]
     },
     "execution_count": 26,
>>>>>>> 1ae967017cfd9ba8c776fb786cfdba66c6eff196
     "metadata": {},
     "output_type": "execute_result"
    },
    {
     "data": {
<<<<<<< HEAD
      "image/png": "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\n",
=======
      "image/png": "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\n",
>>>>>>> 1ae967017cfd9ba8c776fb786cfdba66c6eff196
      "text/plain": [
       "<Figure size 432x288 with 1 Axes>"
      ]
     },
     "metadata": {
      "needs_background": "light"
     },
     "output_type": "display_data"
    }
   ],
   "source": [
    "joined_data_rows.plot.box()"
   ]
  },
  {
   "cell_type": "code",
<<<<<<< HEAD
   "execution_count": 75,
=======
   "execution_count": 27,
>>>>>>> 1ae967017cfd9ba8c776fb786cfdba66c6eff196
   "metadata": {},
   "outputs": [
    {
     "data": {
      "text/plain": [
<<<<<<< HEAD
       "SOROS FUND MANAGEMENT LLC      0.007895\n",
       "PAULSON & CO.INC.              0.007023\n",
       "TIGER GLOBAL MANAGEMENT LLC    0.010894\n",
       "BERKSHIRE HATHAWAY INC         0.012919\n",
       "Algo 1                         0.007620\n",
       "Algo 2                         0.008342\n",
       "Close                          0.008587\n",
       "dtype: float64"
      ]
     },
     "execution_count": 75,
=======
       "SOROS FUND MANAGEMENT LLC        0.007895\n",
       "PAULSON & CO.INC.                0.007023\n",
       "TIGER GLOBAL MANAGEMENT LLC      0.010894\n",
       "BERKSHIRE HATHAWAY INC           0.012919\n",
       "Algo 1                           0.007620\n",
       "Algo 2                           0.008342\n",
       "S&P 500                        305.852115\n",
       "dtype: float64"
      ]
     },
     "execution_count": 27,
>>>>>>> 1ae967017cfd9ba8c776fb786cfdba66c6eff196
     "metadata": {},
     "output_type": "execute_result"
    }
   ],
   "source": [
    "jdr_std = joined_data_rows.std()\n",
    "jdr_std"
   ]
  },
  {
   "cell_type": "code",
<<<<<<< HEAD
   "execution_count": 76,
=======
   "execution_count": 28,
>>>>>>> 1ae967017cfd9ba8c776fb786cfdba66c6eff196
   "metadata": {},
   "outputs": [
    {
     "data": {
      "text/plain": [
       "'portfolio_a_std = np.random.normal(scale=0.5, size=10000)\\nportfolio_b_std = np.random.normal(scale=1.0, size=10000)\\nportfolio_c_std = np.random.normal(scale=1.5, size=10000)\\n\\nportfolio_std = pd.DataFrame({\\n    \"0.5\": portfolio_a_std,\\n    \"1.0\": portfolio_b_std,\\n    \"1.5\": portfolio_c_std\\n})\\n\\nportfolio_std.plot.hist(stacked=True, bins=100)'"
      ]
     },
<<<<<<< HEAD
     "execution_count": 76,
=======
     "execution_count": 28,
>>>>>>> 1ae967017cfd9ba8c776fb786cfdba66c6eff196
     "metadata": {},
     "output_type": "execute_result"
    }
   ],
   "source": [
    "\n",
    "#Determine which portfolios are riskier than the S&P 500\n",
    "# YOUR CODE HERE\n",
    "\"\"\"portfolio_a_std = np.random.normal(scale=0.5, size=10000)\n",
    "portfolio_b_std = np.random.normal(scale=1.0, size=10000)\n",
    "portfolio_c_std = np.random.normal(scale=1.5, size=10000)\n",
    "\n",
    "portfolio_std = pd.DataFrame({\n",
    "    \"0.5\": portfolio_a_std,\n",
    "    \"1.0\": portfolio_b_std,\n",
    "    \"1.5\": portfolio_c_std\n",
    "})\n",
    "\n",
    "portfolio_std.plot.hist(stacked=True, bins=100)\"\"\""
   ]
  },
  {
   "cell_type": "code",
<<<<<<< HEAD
   "execution_count": 77,
=======
   "execution_count": 31,
>>>>>>> 1ae967017cfd9ba8c776fb786cfdba66c6eff196
   "metadata": {},
   "outputs": [
    {
     "data": {
      "text/plain": [
<<<<<<< HEAD
       "SOROS FUND MANAGEMENT LLC      0.125335\n",
       "PAULSON & CO.INC.              0.111488\n",
       "TIGER GLOBAL MANAGEMENT LLC    0.172936\n",
       "BERKSHIRE HATHAWAY INC         0.205077\n",
       "Algo 1                         0.120967\n",
       "Algo 2                         0.132430\n",
       "Close                          0.136313\n",
       "dtype: float64"
      ]
     },
     "execution_count": 77,
=======
       "SOROS FUND MANAGEMENT LLC         0.125335\n",
       "PAULSON & CO.INC.                 0.111488\n",
       "TIGER GLOBAL MANAGEMENT LLC       0.172936\n",
       "BERKSHIRE HATHAWAY INC            0.205077\n",
       "Algo 1                            0.120967\n",
       "Algo 2                            0.132430\n",
       "S&P 500                        4855.251803\n",
       "dtype: float64"
      ]
     },
     "execution_count": 31,
>>>>>>> 1ae967017cfd9ba8c776fb786cfdba66c6eff196
     "metadata": {},
     "output_type": "execute_result"
    }
   ],
   "source": [
    "jdr_std_annual = jdr_std * np.sqrt(252)\n",
    "jdr_std_annual"
   ]
  },
  {
   "cell_type": "code",
<<<<<<< HEAD
   "execution_count": 78,
=======
   "execution_count": null,
>>>>>>> 1ae967017cfd9ba8c776fb786cfdba66c6eff196
   "metadata": {},
   "outputs": [],
   "source": [
    "### ROLLING STATISTICS"
   ]
  },
  {
   "cell_type": "code",
<<<<<<< HEAD
   "execution_count": 79,
=======
   "execution_count": 34,
>>>>>>> 1ae967017cfd9ba8c776fb786cfdba66c6eff196
   "metadata": {},
   "outputs": [
    {
     "data": {
      "text/plain": [
<<<<<<< HEAD
       "<matplotlib.axes._subplots.AxesSubplot at 0x20555e79d60>"
      ]
     },
     "execution_count": 79,
=======
       "<matplotlib.axes._subplots.AxesSubplot at 0x20553f455e0>"
      ]
     },
     "execution_count": 34,
>>>>>>> 1ae967017cfd9ba8c776fb786cfdba66c6eff196
     "metadata": {},
     "output_type": "execute_result"
    },
    {
     "data": {
<<<<<<< HEAD
      "image/png": "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\n",
=======
      "image/png": "iVBORw0KGgoAAAANSUhEUgAAAX0AAAEFCAYAAAAPCDf9AAAABHNCSVQICAgIfAhkiAAAAAlwSFlzAAALEgAACxIB0t1+/AAAADh0RVh0U29mdHdhcmUAbWF0cGxvdGxpYiB2ZXJzaW9uMy4yLjIsIGh0dHA6Ly9tYXRwbG90bGliLm9yZy+WH4yJAAAgAElEQVR4nOzdd3hUVfrA8e+ZSS8EUqihhhJIG+pSREEUEQVEpAg/QVDZVZTVXV1Ft7iuiNhYC7qwuoKrJtgQFgUVRBFBFBAhIXQDBAIkIaS3mTm/P2YyZJJJLwTyfp5nnsyce++55170nTvnnvsepbVGCCFE82C41A0QQgjReCToCyFEMyJBXwghmhEJ+kII0YxI0BdCiGZEgr4QQjQjblWtoJTyArYAnvb1P9Ja/00pFQisAroAScAUrXWGfZsFwF2ABZivtf7CXt4fWAF4A58Dv9dVjBkNDg7WXbp0qcWhCSFE87Vr1640rXVI2XJV1Th9pZQCfLXWOUopd2Ar8HvgVuC81vpZpdRjQCut9aNKqT5ALDAIaA9sBHpqrS1KqR/t2/6ALei/orVeX9n+BwwYoHfu3FnT4xVCiGZNKbVLaz2gbHmV3TvaJsf+0d3+0sAEYKW9fCVwi/39BCBOa12otf4VOAIMUkq1A1porbfbr+7fKbWNEEKIRlCtPn2llFEptQc4B3yltd4BtNFapwDY/7a2r94BOFlq82R7WQf7+7LlQgghGkm1gr7W2qK1NgGh2K7aIytZXbmqopLy8hUoNVcptVMptTM1NbU6TRRCCFENNRq9o7W+AHwDjAHO2rtssP89Z18tGehYarNQ4LS9PNRFuav9LNdaD9BaDwgJKXcfQgghRC1VGfSVUiFKqZb2997AdcABYC0wy77aLGCN/f1aYJpSylMp1RXoAfxo7wLKVkoNtt8cnllqGyGEEI2gyiGbQDtgpVLKiO1L4gOt9Tql1HbgA6XUXcAJYDKA1jpBKfUBsB8wA/O01hZ7XfdyccjmevtLCCFEI6lyyOalJkM2hRD1xZJZSNHJbMwZBbi38cWrZ6tL3aQGU9GQzepc6QshxGVLa03BwQwyPzuGOTX/4gI3A+0eGYAxwPPSNe4SkDQMQogrljXfTNrbCaSvSAAFAWO7EnJfDK0f6Atak/qfeCw5RZe6meUUHs8i88skrIXmeq9brvSFEFec3N1nydmSTPHZPABa3NAFv6HtMXgaHesEz44g7e0EMj//lcApvS5VU51os5WsjcfJ/iYZg48b/leHVr1RDUnQF0JcMax5xeT8eIasL5Nwb+uL/7Wd8A4PxKOjf7l1vbq3wm9Ie3K2nsKzawC+A9teghZfpM1WUv+9j6LjWXjHhNDi2o4YvOo/REvQF0Jc1rTW5O9LoyDxPPnxaehiK57dAgia1QeDZ+UhLmBsVwqPXiD3pzOXNOhrs5W0lQkUHc+i5cTu+A5qi21ke/2ToC+EuGxZcovJXHeMvJ/PYfBxwzsmBL+h7fFo71et7ZVB4R0dTNYXx7FkFl6Sm7rabCXzy+MUHr5Ay1u64/ebdg26Pwn6QohqyfzqOOazubS4rjPubX0vdXPQZivn4w5QeOQC/iNCaTG6C8pQ86tj7whb0M/adIJWt/ZogJa6VnjsApnrkyhKyQWzFZ/+bfD9TcP/2pCgL4SoUsHRC2RvOgFAUXIObR7s1yD9zdWlLZpzy/ZSfDKblhPC8BvSvtZ1ubf2wW9oe3K2n6bF9Z0x+nvUY0tdy/wiiezNJzEGeOA3uB2ePVri1aNVg3XplCZBXwhRKXN6PukrEjAGeREwpgvn3zvAuTd+ofV9JqfRMA3BkluMLrai3BTKzQBKUXwqh+wtybaAP64bvoPr3h3iO6gtOdtOkx+fVqcvkMporSlISCfzyyTM5/LxGdCGluPDMHg07DksS4K+EKJSOdtOoy2akLujcGvlhbpDkf5uImcW/0jgtPAGeaq1KDmbzC+SKDxywWUuXuXlht81ofgObV8vV8dubXxwb+vDhXXHMGcU4je4HW6BXnWut7S8XWfJ+OgwxiAvWk4Iw3dQO5Sx4a/sy5KgL4SoUMHhDHJ2pOAdFYxbK1sQ9I4IJuSeKDJWHyH9/USCpvfGq2crik7nkP5uIlg1La7rhE//NjUOyNqqubDmCLk/ncXg647/iI64tfJCW6zoYivaqnEL8sare0sM3vUXvpRSBM7oTdqb8eRsSSZn2ylajgvDd2BbzOfyKD6Xh1fPVrXu0rLkFJH15XHcO/jR+t4Y26+WS0Ry7wghXDKfLyB12V6Uh4GQu6PKjWwpOpVD2op4sGpCfhtD2pv7AFDebpjP5tFyYs1GomizlQufHSN3ewq+g9rS4oYuGH3d6/WYqmLJLKT4TC6ZG5IoTsnF2MoTS0YhYPs1EHJ3VI37/LVVc27pHorP5BJyTxSeXQIaounl1Hq6RCFE81OcmsfZJbuw5BTRamIPl0MZPTr4ETwzAmuumbMv7cJaaCF4TiRt7jfh3sGPC/87RuaGX6nOhWXuz+c4t2yvLeAPbkfLid0bPeADGAM88eoVSOv5ffEfEYrByzYMtNWkHljOF3Bh7dEa1afNVjI+OUzxqRxaTezRaAG/MtK9I4RwYk7Pt3XTGA20fdCEW5B3het6dPSn5a3dyd1xhoAbuziGcgbN6E3m+l/J/iYZXWwlYGxXlNH5GlObrRQczCBvzzny96VhbOlJy1u74zeoYcepV4dSioAxXQkY09VRZr5QSPamE2R/exL/azpWsvVFuT+dIW/nWfyGtsenX+uqN2gEEvSFEICtGyLn+1PkbD2NtcBM4LRelQb8En6D2pUL1G6BXgROD+fCp0fI+f40Bh93WozqZNtPsYWCY5lkfXmc4lM5GHzd8LuqAwFjulzSvu6qtBjVCfO5PDI3JOHTr02V3TzFqXlkfX0Sj47+BIzr1ijDMatDgr4QgsITWZyPO4jlfAHu7XwJnNoTz24t61SnUopWE3tgzTeT9fUJzOn5aLOV/Pg0sNpG4ARO7YV3dHC5XwFNkTIoWozqRP6+tCqHdmqtOf/eAXSRhYAbuzaZgA8S9IVo9gqTMkl/7wDKTdmCsCmkXoNUywndMXi5kfdLKgDe0SF49w7EKzywytw4TY1bGx/cQrzJ25OK7+B2FZ6noqQsis/k0mpSDzy7Xfp+/NIurzMuhKhXBQfPk/5uIgYfN4Lu6FPtnDU1YfR1p9WtPWh5S3dQNKmr3ppSSuE3rAMXPj1C3q6z+A4onzZBW6xkrD6Cwc8d75iQS9DKyknQF6IZKjyRRfamExQczMAtxJuQudENnn6gNnlxmiLfQW3J23OOC+t+xTsquNyvlYIDGZjP5RE4PbzRn7atDgn6QjQDuthC8Zk8ilNyKTh0nvzE8xi83WgxujP+V4c26RuoTY0yKALGdiX19V+4sPoIgdPCHcu0VZOzIwWDvzveEUGXsJUVk6AvxBWs+FweOdtOk/fzOXShBQCDvzu+g9oScH1nDD6NPxb+SuDZqQUtrutE1sYT+A5pj2fnFoAtZUXhoQxajOnSZG9OS9AX4gpkLTST8cEh8hPSUe4GvPoE4RMVjHs7X4ytvK6YrpZLyW9YB7I2naAgMd0R9Av2p+PWxgf/a+p/msP6UmXQV0p1BN4B2gJWYLnW+mWl1JPAPUCqfdXHtdaf27dZANwFWID5Wusv7OX9gRWAN/A58Hvd1PNACHEZ0RZt62/+31F0oQX/azviN6R9o6QLbm4M3m54dAkge0sybsE+mNPzKfw1E/+RHZv0zerqXOmbgT9qrXcrpfyBXUqpr+zLlmitXyi9slKqDzANiADaAxuVUj211hbgDWAu8AO2oD8GWF8/hyJE81Z0OoeMj22P/Ht09Cfgpq5N4rH/K1nwzD6kvR1PxkeHAPDqHYj/VR0ucasqV2XQ11qnACn299lKqUSgsqOaAMRprQuBX5VSR4BBSqkkoIXWejuAUuod4BYk6AtRJ9qqyf8llfMfHCz1wFPIJUnb29wYvN0ImRtNwaEMLBkF+A5u3+TPe4369JVSXYC+wA5gGHC/UmomsBPbr4EMbF8IP5TaLNleVmx/X7bc1X7mYvtFQKdOnWrSRCGaleJzeVxYd4zCQxm4h/oRMidSbs42MuVmwLtP0xyp40q1g75Syg/4GHhQa52llHoD+Ae2KQ7+AbwIzAFcfc3pSsrLF2q9HFgOttTK1W2jEFeKwmOZ5P50BktOEW4tvfA2heDZNcBxA1YXW8jZnkLmhiRQEHBzN/wGt5Ohl6JK1Qr6Sil3bAH/Pa31JwBa67Ollv8bWGf/mAyUTkEXCpy2l4e6KBdCYMvXUnQym+xvkinYn47yMOIW4k3usbPk/nQG5WnELdALYysvik5kYc0pxis8kFa39cDoJzdqRfVUZ/SOAt4CErXWL5Uqb2fv7weYCMTb368F3ldKvYTtRm4P4EettUUpla2UGoyte2gm8Gr9HYoQl4fiM7kUJmVizTeji60A6EILBQczMKflY/Bxw39UJ1qMCEW5G7EWmCk4cJ7C41lYzhdgTsvDo6M/fld1wCusbknRRPNTnSv9YcAdwD6l1B572ePA7UopE7YumiTgtwBa6wSl1AfAfmwjf+bZR+4A3MvFIZvrkZu4ohkxZxaS9dVx8nadvdixae/0VG4G3EP9aHlVB3xMIU7T8hm83PAxtcbH1DTysYvLm0yXKEQDsuabyU9II29Pqm2Sb6PCb1h729h5Pw+Uu/TBi4ZR0XSJ8kSuEPXMWmAmb08qebvOUpScDRqMgV62ycL7tq7WxCRCNBQJ+kJUwlpkIfeHFIqOZ2Hw98CjvR/u7XxxC/F26oLRFitFJ7PJ/eks+XtT0cVW3Nv60mJUJzzDWuLRpUWTfkpTNB8S9IWoQOGxTNLf3Y81z4xbkBeWIxfI/SHFsdwY5IVXWEt0sZX8hDR0kRXlYcSnb2t8B7bFPdRPAr1ociToC+FC9tZTZH52DLdgb4Jm9sGzSwDaqrGcL6D4bB7FqXkUHsog7+dzKE8j3pHBePVqhVd4EAbPppdDXYgSEvRFk1NcXExycjIFBQWXZP/WAjNWgxl1awAGHzcy8k9DYqlHSgxAG6CNO+hAUJCJFUiHY+mXpM2i+fLy8iI0NBR39+o9iS1BXzQ5ycnJ+Pv706VLl0btHtFmK5asQqx5ZtuDUcHekoJYNGlaa9LT00lOTqZr167V2kbGi4kmp6CggKCgoEYL+FprrPlmitPyseabMfh54BYiAV80fUopgoKCavSrWK70RZPUUAFfaw1WjbZodLEFa74FXWi2PSxlULgF+0ifvLis1PT/FQn64oqntUYXW7FkFKLNFuc0f0YDBl93DJ5GlJebjLYRVzzp3hFXLK01lpwizOfyMZ/LQ1usGPw8MLb0xC3IG7fWPri39cGtpRcGb3dHwF+4cCERERFER0djMpnYsWMHAEVFRTz44IOEhYXRo0cPJkyYQHLyxWzhRqMRk8lEZGQk48aN48KFC45lCQkJXHvttfTs2ZMePXrwj3/8g5Kn4c+ePcvNN99MTEwMffr0YezYsS6Pp6T+kldSUhIrVqzg/vvvd1pvxIgRlDzF3qVLFyZNmuRY9tFHH3HnnXcCsGLFCkJCQujbty89evTghhtuYNu2bS73/eSTT6KU4siRI46yJUuWoJSi9BPzP//8M0opvvjiC6ftlVL88Y9/dHx+4YUXePLJJ53WiYmJ4fbbb3cqM5vNPP744/To0cNx3AsXLqzwnDz77LOOc9CpUydKZxy45ZZb8PPzAyApKQlvb2+nbd95551Kz9nbb7/tWNfDw4OoqChMJhOPPfaYU5u/+eYbbr755nLnsPS/S2k//vgjV199Nb169SI8PJy7776bvLy8cuvVF7nSF1ckbbZivlCILjCj3A0YAzwx+LhVOVn19u3bWbduHbt378bT05O0tDSKiooAePzxx8nOzubQoUMYjUbefvttbr31Vnbs2IFSCm9vb/bssaWnmjVrFkuXLuWJJ54gPz+f8ePH88YbbzB69Gjy8vKYNGkSr7/+OvPmzeOvf/0r119/Pb///e8B2Lt3r8u2la6/Jnbu3ElCQgIRERHllk2dOpXXXnsNgM2bN3PrrbeyefNmevfuXW7dqKgo4uLi+POf/wzYgmGfPn2c1omNjeWqq64iNjaWG264wVHu6enJJ598woIFCwgODi5Xd2JiIlarlS1btpCbm4uvry8Af/7znzlz5gz79u3Dy8uL7OxsXnzxxWqdk5YtW/L9999z1VVXceHCBVJSUpyWh4WFVbitq3M2e/ZsZs+eDdi+GDZv3uzyWGri7NmzTJ48mbi4OIYMGYLWmo8//pjs7Gx8fHzqVHdF5EpfXHG0xYo5PR9daMbYwgO31j4Y/T2qDPgAKSkpBAcH4+npCUBwcDDt27cnLy+Pt99+myVLlmA02vr8Z8+ejaenJ19//XW5eoYMGcKpU6cAeP/99xk2bBijR48GwMfHh9dee81xVZqSkkJo6MWs49HR0XU7AWU8/PDDPPPMM1WuN3LkSObOncvy5ctdLr/llltYs2YNAMeOHSMgIICQkBDHcq01H330EStWrODLL790urno5ubG3LlzWbJkicu633//fe644w5Gjx7N2rVrAcjLy+Pf//43r776Kl5eXgD4+/uX+4VQkWnTphEXFwfAJ598wq233lqt7aD656yuli5dyqxZsxgyZAhg+0V022230aZNmwbbp1zpiybt7/9LYP/prBpto4ts/fbK3QAuRuD0ad+Cv40rf9ULMHr0aJ566il69uzJddddx9SpU7nmmms4cuQInTp1okWLFk7rDxgwgISEBEaNGuUos1gsbNq0ibvuuguwde3079/fabuwsDBycnLIyspi3rx5jivu6667jtmzZ9O+fftybcvPz8dkMgHQtWtXVq9eXa3zMWXKFF5//XWnrpmK9OvXj2XLlrlc1qJFCzp27Eh8fDxr1qxh6tSpvP32247l33//PV27diUsLIwRI0bw+eefOwXaefPmER0dzZ/+9Kdyda9atYqvvvqKgwcP8tprr3H77bc7zrm/v3+F7S19TgAWLFjA1KlTARg1ahT33HMPFouFuLg4li9fzj/+8Q/HukePHnXa9tVXX2X48OFAzc5ZXcTHxzNr1qwG3UdZEvRFoypOzaMg8Tzm8wVYLhRizijAklmILrLg1soL30Ht0CG1z/yqi622gO9hgFrclPXz82PXrl189913bN68malTp/Lss8/St29flzd5tdaO8pIAlJSURP/+/bn++uvLrVOWUoobbriBY8eOsWHDBtavX0/fvn2Jj493uooG110ZldVbwmg08sgjj7Bo0SJuvPHGSo+/qqy7JVfPX3zxBZs2bXIK+rGxsUybNs2x3n//+1+noN+iRQtmzpzJK6+8grf3xaRzP/30EyEhIXTu3JnQ0FDmzJlDRkZGuX2//fbbvPzyy6Snp7Nt2zY6duxYafeO0WjkqquuYtWqVeTn59OlSxen5ZV179TknF1uJOiLRqGLLZz/4BD5+9IAUF5uuLXyxC3QC89uASijgaLkbDLX/4plvB/FZ3JRHkb+PKLHxSkAjQplVC67aayFFiwXCtBmjbGlJ0bf2s8TazQaGTFiBCNGjCAqKoqVK1cyefJkjh8/TnZ2ttOV5+7duxk3bhxwMShnZmZy8803s3TpUubPn09ERARbtmxx2sexY8fw8/Nz1BUYGMj06dOZPn06N998M1u2bHG6mViRoKCgcgHy/Pnz5fqa77jjDhYtWuSyX7+0n3/+2WV/folx48bxyCOPMGDAAKdfPRaLhY8//pi1a9eycOFCx0NDZc/Xgw8+SL9+/Rx942D7sjhw4IAjKGdlZfHxxx8zffp0Tpw44aijpE89MjISi8VCdUybNo2JEydWu0uotOqes7qIiIhg165dTJgwocH2UZb06YsGZ75QSMpzO8nfl4b/tR1pt2AQHZ4cQpvf9yN4VgStJnSn5c3dCPltNMH3RGHwdgM3A9ZCM5bMQszp+bbXuTyKU3IpPpuLJbfY9lBVoZni1DzMqXloi7ZNJ1iHgH/w4EEOHz7s+Lxnzx46d+6Mr68vs2bN4g9/+IMj4Lzzzjvk5eVx7bXXOtUREBDAK6+8wgsvvEBxcTEzZsxg69atbNy4EbD9Ipg/f76jm+Prr792jNbIzs7m6NGjdOrUqVrtHThwIN9//z1nzpwBbDcgCwsL6dixo9N67u7uPPTQQ/zzn/+ssK5vv/2W5cuXc88991S4jre3N4sXL+aJJ55wKt+4cSMxMTGcPHmSpKQkjh8/zqRJk/j000+d1gsMDGTKlCm89dZbAFitVj788EP27t1LUlISSUlJrFmzhtjYWHx8fLjrrru4//77HfcHLBaL48Z6dQwfPpwFCxaUGxVUHdU5Z3V1//33s3LlSscIMYB3333X8e/ZECToiwali61cWHMEa14xwfdEETC6C8YAT5frKqXwCmuJwcsN92BvPNr54d7WF7fWPrZXkLd9W4Ulo4Di0zmYU/PRxVaMLTxwb+tr+8Kog5ycHGbNmkWfPn2Ijo5m//79jqvERYsW4eXl5Rh2+eGHH7J69WqXXSx9+/YlJiaGuLg4vL29WbNmDU8//TS9evUiKiqKgQMHOoZa7tq1iwEDBhAdHc2QIUO4++67GThwYLXa26ZNG15++WXGjh2LyWTiwQcfJDY2FoOh/P/ad911F2az2als1apVmEwmevbsyTPPPMPHH39c6ZU+2K6e+/Xr51QWGxvLxIkTncomTZrE+++/X277P/7xj6Sl2X7xbdmyhQ4dOtChQwfH8quvvpr9+/eTkpLCwoULadeuHZGRkfTt25fhw4cza9Ysxz2Pki61klfZ4ZNKKR5++GGXo2xK+vRLXq+88kq5dVyds+rYtGkToaGhjtf27dsBuOmmmxxlkydPpk2bNsTFxfHwww/Tq1cvevfuzXfffVfu3lF9apYzZ2mrxmLvSy5KyaXoWCbWIgu60GLLu+LthnuQF+6h/niE+uHe3g+Dh+unNLW2ZV5U7kaMLWRy6tK02UrqW/EU/ZqJ3zWhtLyxerlBEhMTKw08WmusucVos0a5GzB4u0nKBNGsufp/ptnNnFX65pm2aqw5RRSfySPvl1Ty96XZRnjYGe1dAsrTiHuAJ9YCM4XHMsnbk2pbwaDw7BaAR6gfKIU5owCjrzvWPDOFxy5gybT93HTv4EeL6zvjHR7Y6Md7qWirxpyeT358OpaMAnwGtMGjnS+WnGLS3orHnJZPy/Fh+A5uV2/7VEph9JMvWCFq44oN+hkfHkK5G7AWWCg4mIEusP1EUx5GvCOD8OwacPHJzEAvl3VYsoooSs6m8OgFCn/NJPtb29OXxpaeWLKLQWu8I4Lw7BKAtchC3q6zpL+7n5C7o/DsElCrdmuLlaLkHPJ+PkdRcja60IIyGvDs2Qrv8Fa2MeeNEPCKU/PI/yUVS2YR1kKzbSaoNj74DQ/F6OuOJbuInG2nydl2Gl148Qs098eLfZHK3UDQHb3xjqjbAyxCiPpzRQZ9bdGgIfenM4DCJyYEj07+GPw88OrZqtoJtYwtPPDuE4R3nyDANkIEwOBpRFs1WKwo94t1+Q5sy7lXfybz819pfZ/JZZ2VKTqZzYW1Ryk6mQ0G8OzWEkMrLyxZReR8f4qcLbYvHa8+QXiHB+LRpQXurev3qb3i1Dyyv00mb+dZUGDw88DgZQQNBYnnyfn+NAZfdyyZhQB49wnCs2cr23n1diM/IR1LdhFo8OrVCo/2fvXaPiFE3VQZ9JVSHYF3gLaAFViutX5ZKRUIrAK6AEnAFK11hn2bBcBdgAWYr7X+wl7eH1gBeAOfA7/XDXBTQRkVgVN70WpKT7DaPteH0l8WyqDA4PzlYfR1x++qDmSuO0bO9tP4DSn/gE1FLDlFpL0dj7ZoWt4Shld4EG4tL97wtBZaKDhwnoLDGRQknqdgv22yDo/OLQieHeE0X2ttWIssZG08Qe6OFLRF4zesPf4jOmL0v/irouh0Dnm7zmLJLsItqDU+fVuX+9Lx7d9wTxIKIequOpHCDPxRa71bKeUP7FJKfQXcCWzSWj+rlHoMeAx4VCnVB5gGRADtgY1KqZ5aawvwBjAX+AFb0B8DrK/vgyqhlIJGzpLrN7gd+QlpXFhzFI/OLap1pWstNJP6731YCy20md8X9za+5dYxeBrxiQnBJybE0Y+etyeV7E0nyPjkMIFTel0cz15DBYczyFh9BEtGAV69g2g5PszpC6eER3s/uXIX4jJXZZTQWqdorXfb32cDiUAHYAKw0r7aSuAW+/sJQJzWulBr/StwBBiklGoHtNBab7df3b9TapsrhnIzEHxHH5S7gayNJ7AWVD3cK+/nVMxn8wicFu4y4Jfbh0HhHuJDwPWd8R/Zkfy9aWRtPlmr9hYey+R87AGUURE8O5LgmX1cBnwhxJWhRpeGSqkuQF9gB9BGa50Cti8GoLV9tQ5A6QiUbC/rYH9ftvyKY/Bxx294Bwr2p5P+zv5KH2235hWT8/0p3Nv54h0ZVON9BdzQBe/oYHK2JJO/v2bzs+b9co7U5XvRGoLu6INXz1Y13v+VqHSK5MmTJzsenDKbzQQHB7NgwQKn9bt06eIYdw7OqXVdpT4G+M9//kNUVBTR0dFERkY6EplprXn66afp0aMHPXv2ZOTIkSQkJDjtq6JUyWX98MMPxMTEEBUVVWV+l8rS+3766adER0cTHh5OVFRUuQeuSlQ3pTPA+vXrGTBgAL179yY8PJyHH3640vaJ+lPtoK+U8gM+Bh7UWleWActVB7qupNzVvuYqpXYqpXampqZWt4lNSsDoLgTc1I3CY5lkfXXc5Traojm/6iDmtHz8r+1U6wk8Wt7cDbcQb9LfS3TcYK1K/v50zq86hHuoH+0WDKr3G8KXs5J0CvHx8Xh4ePCvf/0LgC+//JJevXrxwQcfVJmjpjLJycksXLiQrVu3snfvXn744QdHZs2lS5eybds2fvnlFw4dOsSCBQsYP368U8bKkrS/VXniiSf45z//yb59+ypNQ1CS3nfx4sUcPHiQxMRExowZQ3Z2Nr/88gsPP/wwa9as4bFs/2gAACAASURBVMCBA6xdu5aHH364wvTPpVXUzvj4eO6//37effddEhMTiY+Pp1u3blXWJ+pHtYK+UsodW8B/T2v9ib34rL3LBvvfc/byZKD0M+ChwGl7eaiL8nK01su11gO01gPKJp26nPgNaYd3dDDZX58kb885Ck9koS0aa4GZ7O+SObtkFwUHMwgY2w2fqNoPazS28CTo//qAhvT3D2AtqjwviTZbufDZMdyCvQieHVnhg2fC9hh/SabF2NhYfv/739OpUyd++OGHWtd57tw5/P39HRN6+Pn5OSa1Xrx4Ma+++qojl/ro0aMZOnQo7733nmP76qb99fDwcEzyUtmk2ZWl933hhRd4/PHHHdt37dqVBQsW8Pzzz1e5/4ra+dxzz/HEE08QHh4O2NIu33fffVXWJ+pHdUbvKOAtIFFr/VKpRWuBWcCz9r9rSpW/r5R6CduN3B7Aj1pri1IqWyk1GFv30Ezg1Xo7kiZIuRkInNKLs2dyOR93ELCN8ceosKQX4B7qR9D/9cYroubdOmW5BXrRanJPMlYdJO+nM/gNq7jn7PwHB7GkFxA0O6JOeWoaxfrH4My++q2zbRTc+GyVq5nNZtavX8+YMWPIz89n06ZNLFu2jAsXLhAbG+sIkjUVExNDmzZt6Nq1K6NGjeLWW29l3LhxZGVlkZubS1hYmNP6JembS1Q37W9YWBgLFiygd+/eDBhQ7sFMh8rS+yYkJJTrehkwYABLly6t6jArbGd8fLzTLFqicVXnSn8YcAdwrVJqj/01Fluwv14pdRi43v4ZrXUC8AGwH9gAzLOP3AG4F3gT283dozTgyJ2mQrkZaP27GFpN6oH/tR1Bg8HbjZC5UbS5vy/ekcH1Ni+rb9/WeHTyJ+vbZMzp+S7XKUzKJH+vLfGZd6/m8+RwTZTkcxkwYACdOnXirrvuYt26dYwcORIfHx8mTZrE6tWrHYnXXP37VfZvajQa2bBhAx999BE9e/bkoYceqrT7pWxq5tJpfyuyZs0aMjMzWb9+PdOnT+fw4cOkpqZWO6dPRfuuqMyV6rRTNL4qr/S11ltx3R8PMMpVodZ6IbDQRflOILImDbwSGHzc8R3YFrD19TekgDFdSVuZQNo7+2nzQF/HME5tsZL3cyoZqw9j8PfA/5rQKmpqIqpxRV7fXOVoj42N5fvvv3ek/01PT2fz5s1cd911jvTGJUm9XKU2LkspxaBBgxg0aBDXX389s2fP5sknn8TX15djx4459XHv3r2ba665xmn7qtL+fvHFF4waNYqoqCjeeustJkyYwOTJkx0TjJRWWXrfiIgIdu7c6TSb1+7du8tNk1gRV+0s2V9MTEy16hD1S7JsXmE8uwUQOK0X5rN5pP0nHktmIbk7z3L2pV1kfHQI93a+tP5dNAbPK/Jh7AaRlZXF1q1bOXHihCP979KlS4mNjQVso1b++9//ArbUv++++y4jR46ssL7Tp0+ze/dux+eS9M0AjzzyCPPnzyc/3/ZLbePGjWzdupXp06c71VFV2t++ffuyatUqCgoKGD58OBMnTmThwoUuUwxXlt734YcfZtGiRSQlJQG2CcWfeeaZanfPuGrnI488wjPPPMOhQ4cAW3rll156qaIqRD2ToH8F8u4dRMtbulOUnE3Koh/J+OgQyt1I4LRetP5tDG5B3lVXIhw++eQTrr32Wse8uQATJkxg7dq1FBYW8pe//IUjR44QExND37596d69O//3f//nWHfFihVOaXaLi4t5+OGHCQ8Px2QysWrVKl5++WUAHnjgAQYOHEhUVBS9evXiH//4B2vWrHGaaapEZWl/77rrLqKiohzdVCkpKbzwwgvcdtttjqGYJSpL72symVi8eDHjxo0jPDyccePG8dxzzzmmGRw7diynT7scj1FhO6Ojo/nnP//J7bffTu/evYmMjHRMWr527Vr++te/VlqfqJtmmVq5uSg6nUPeL6l4tPfDO7r+7h00tKpSKwshnElqZQFI2gQhRHnSvSOEEM2IBH0hhGhGJOgLIUQzIkFfCCGaEQn6QgjRjEjQF6KU9PR0TCYTJpOJtm3b0qFDB8fnkiRoAIcPH+bmm28mLCyM/v37M3LkSLZs2QLYxuWHhIQ4tjOZTOzfv5+kpCS8vb0xmUz06dOHmTNnUlxc7LIdVdXvKl3z1q1bGTRoEOHh4YSHh7N8+XLHsieffNJxLOHh4dx7771YrVbH8orSRpdOl+xKUlISSin+8pe/OMrS0tJwd3cv18aYmJhyD4fdeeeddOjQgcLCQse2JU89l1iyZAleXl5kZmY6lW/YsMFxvCaTialTp3LixAlHvV27dnWc/6FDhzrOnVKKTZs2OepZvXo1Sik++ugjxzH36tXLse1tt93mOIc+Pj6cO3fOsa2fn1+l/80UFRU5tblsGu6SNrn698zJyeG3v/0tYWFhREREcPXVVzs9QFdbEvSFKCUoKIg9e/awZ88efve73/HQQw85PhsMtv9dCgoKuOmmm5g7dy5Hjx5l165dvPrqqxw7dsxRz9SpUx3b7dmzx5G2ICwsjD179rBv3z6Sk5P54IMPyrWhOvWXdebMGaZPn86//vUvDhw4wNatW1m2bBmfffaZY52SY9m/fz/79u3j22+/dSyrS9robt26sW7dOsfnDz/8sFx6iMTERKxWK1u2bCE3N9dpmdFo5D//+U+F9cfGxjJw4EBWr17tKIuPj+eBBx5g5cqVHDhwgD179jBjxgzHk8MAzz//vOP8b9u2zVEeFRXleJoaIC4urlxKiPfee8+xbcmXAUBwcDAvvvii07qV/Tfj4eFBbd19990EBgZy+PBhEhISWLFiRbkvjNqQoC9EDb333nsMGTKE8ePHO8oiIyMrnMzEFaPRyKBBgzh16lS91L906VLuvPNO+vXrB9iC03PPPcezz5bPXVRUVERBQQGtWl2cNKcuaaO9vb3p3bu34xfBqlWrmDJlitM677//PnfccQejR49m7dq1TssefPBBlixZ4vLp4qNHj5KTk8PTTz/tFKgXL17M448/7vRA0vjx47n66qurbO/w4cP58ccfKS4uJicnhyNHjjieMK7KnDlzWLVqFefPn6/W+rV19OhRduzYwdNPP+242OjWrRs33XRTneuWh7NEk7b4x8UcOH+gXusMDwzn0UGP1nr7hIQER3CtyKpVq9i6davj8/bt252WFxQUsGPHDkf6hZrW72qbsumRy6ZkXrJkCe+++y7Hjx/nxhtvdAS6+kgbPW3aNOLi4mjbti1Go5H27ds7pWdYtWoVX331FQcPHuS1115z6ubp1KkTV111Ff/9738ZN26cU72xsbHcfvvtDB8+nIMHD3Lu3Dlat27tMuVzWY888ghPP/00YEvyVjIngVKK6667ji+++ILMzEzGjx/Pr7/+6rTtjBkzHKkvrr/+esf8AX5+fsyZM4eXX36Zv//97zU6RzWRkJCAyWTCaKz/uS7kSl+IOpo4cSKRkZHceuutjrKy3TslAeTo0aOYTCaCgoLo1KmTU/bKmtRfVkXpjkuXlXQ7nDt3jtzcXOLi4gAqTRtdXWPGjOGrr74iNja2XCbPn376iZCQEDp37syoUaPYvXs3GRkZTus8/vjjPP/88073GcDW9TJt2jQMBgO33norH374Ybl9l/Sp9+zZkxdeeMFRXrp7p/QkNHDxSyouLs5lErrS3TtlJ4yZP38+K1euJCursgkEmy650hdNWl2uyBtKRESE46Yq2G4E7ty5s1rzvJb06aekpDBixAjWrl3r1I1T2/pLUiCXrmvXrl0uUyC7u7szZswYtmzZwrRp0ypNG11dHh4e9O/fnxdffJGEhAT+97//OZbFxsZy4MABR/1ZWVl8/PHH3H333Y51unfvjslkcrrHsXfvXg4fPsz1118P2LqlunXrxrx584iIiGD37t3ExMQ4+tRfeOEFcnJyqtXeQYMGER8fj7e3Nz179qz2cQK0bNmS6dOn8/rrr9dou5qIiIjgl19+wWq1Orp36otc6QtRQ9OnT+f777936psum7myKu3atePZZ591OcFIbeqfN28eK1ascMwDkJ6ezqOPPsqf/vSncutqrdm2bRthYWFVpo2uiT/+8Y8sXryYoKCLM8FZrVY+/PBD9u7d66h/zZo1Lut/4oknnK7UY2NjefLJJx3bnT59mlOnTnH8+HH+9Kc/sXDhQhITE6t9jspatGhRtaaddOUPf/gDy5YtqzDLaV2FhYUxYMAA/va3vzlurB8+fJg1a9ZUsWXVJOgLUUPe3t6sW7eOf/3rX3Tr1o0hQ4bw9NNP8+c//9mxzqpVq5yGbJYePVLilltuIS8vj++++67G9ZdN11ySx/+ee+4hPDycoUOHMmfOHKc+8iVLlmAymYiMjMRsNnPfffdVmTYa4KabbnLsZ/LkyRWel4iIiHL3FbZs2UKHDh3o0OHi9J1XX301+/fvd6RTLr196XsZcXFxTJw40WmdiRMnEhcXR1RUFC+//DIzZ84kPDycYcOGkZiY6DTvwCOPPOL0b1B2+OSNN95Y4bwHM2bMcGzn6hdPcHAwEydOdJyjmoiOjnaczz/84Q9A+X/P5ORk3nzzTc6cOUP37t2JiorinnvuoX379jXeX1mSWlk0OZJaWYiaqUlqZbnSF0KIZkSCvhBCNCMS9IUQohmRoC+EEM1IlUFfKfUfpdQ5pVR8qbInlVKnlFJ77K+xpZYtUEodUUodVErdUKq8v1Jqn33ZK+pymbBVCCGuINW50l8BjHFRvkRrbbK/PgdQSvUBpgER9m1eV0qVPEf8BjAX6GF/uapTCCFEA6oy6GuttwDVzS40AYjTWhdqrX8FjgCDlFLtgBZa6+3aNkb0HeCW2jZaiIZkNBoxmUzExMTQr18/xxj70qmRS17vvPMOYEuZGxUVRXR0NNdccw3Hjx931Ofnd3Fy+s8//5wePXpw4sQJDh48yIgRIzCZTPTu3Zu5c+cC8M0333DzzTc7tenOO+90Sv1bMoy5sv2WHEfJy1XytdL1umovOKc2riqNcNltXaUNLptieeLEiXz66aeOz7169XLkzAGYNGkSn3zyCQCpqam4u7uzbNkyAJYvX+6U9iErK4uwsLByuXSefPJJx4NfVaVzPnToEGPHjqV79+707t2bKVOmcPbs2XLn7nJVlz79+5VSe+3dPyXp+joAJ0utk2wv62B/X7bcJaXUXKXUTqXUztTU1Do0UYia8/b2Zs+ePfzyyy8sWrTIKcd8SRqFktfMmTMdyzZv3szevXsZMWKEU9AqsWnTJh544AE2bNhAp06dmD9/viMfTmJiIg888ECt2lvRfkuOo+T12GOP1ar+0qmN65pG2FWK5aFDhzq+WNPT0/Hz83NKULd9+3ZHPvwPP/yQwYMHO57oveeee0hOTmbjxo0A/PWvf2XOnDl07dq10nZUlM65JK31vffey5EjR0hMTOTee+/lSopDtQ36bwBhgAlIAUoSTLvqp9eVlLuktV6utR6gtR4QEhJSyyYKUXdZWVlOKYirY8iQIeVSJn/33Xfcc889fPbZZ4SFhQGQkpJCaGioY52oqKg6tdXVfuuqotTGteUqxfKwYcMcQX/btm3cfPPNpKamorXm119/xdvbm7Zt2wK2L6AXX3yR5ORkTp06hVKKN954gwcffJCdO3eyadMmHnnkkSrbUVE65/fff58hQ4Y4Pck8cuRIIiMj63zsTUWtEq5prR2/dZRS/wZKZlBIBjqWWjUUOG0vD3VRLkSlzjzzDIWJ9Zta2bN3OG0ff7zC5fn5+ZhMJgoKCkhJSeHrr792LCvJklni1VdfZfjw4U7bb9iwgVtuudh7WVhYyIQJE/jmm28IDw93lD/00ENce+21DB06lNGjRzN79mxatmwJ2L4kSu/nxIkT5bp8yiq735LjKLFgwYJyGTDBOQVxWRWlNq5I2X2eP3/eKQmcqxTL/fv3Jz4+nqKiIrZt28Y111zDsWPHSExM5Oeff2bYsGEAnDx5kjNnzjBo0CCmTJnCqlWr+MMf/kB0dDQ33HADo0aN4tNPP63WL46K0jnHx8fTv3//Kre/nNXqSt/eR19iIlAysmctME0p5amU6orthu2PWusUIFspNdg+amcmUPfMQUI0gJJukQMHDrBhwwZmzpzpSHpVtnundMAfOXIkrVu3ZuPGjU45YNzd3Rk6dChvvfWW035mz55NYmIikydP5ptvvmHw4MGOfubhw4c77adsJs7SKtpv2e4dVwEfnFMQlyRsK1Gd1Mauzl3J66mnnnIsqyjFsqenpyNr5g8//MBvfvMbhgwZwrZt29i2bZujaycuLs4xOUtJdtAS8+bNo0OHDhXm0nGlonTOV7oqr/SVUrHACCBYKZUM/A0YoZQyYeuiSQJ+C6C1TlBKfQDsB8zAPK11SWLue7GNBPIG1ttfQlSqsivyxjBkyBDS0tKq1ae7efNmfH19ufPOO/nrX//KSy+9BIDBYOCDDz7guuuu45lnnuHxUsfUvn175syZw5w5c4iMjCQ+Pr6i6mu837qqLLVxbVSWYnno0KFs2bKF7OxsWrVqxeDBg3nttdf4+eef+d3vfufY/uzZs47c+KdPn+bw4cP06NEDg8FQ4xTErtI5R0REOE0jeSWqzuid27XW7bTW7lrrUK31W1rrO7TWUVrraK31ePuVfMn6C7XWYVrrXlrr9aXKd2qtI+3L7tdNPdObEMCBAwewWCxO6YIr4+3tzT//+U/eeecdpyn1fHx8WLduHe+9957jin/Dhg2OidHPnDlDenq6UzbKmqhov3VRWWrjmqoqxfKwYcNYtmyZY67a6OhofvjhB06cOEFERAQHDx4kNzeXU6dOObZfsGCBYyKY2iqbznn69Ols27bNaW7hDRs2sG/fvjrtpymRJ3KFKKOkX9pkMjF16lRWrlzpmLaupE+/5PXKK6+U275du3bcfvvtLF261Kk8MDCQDRs28PTTT7NmzRq+/PJLIiMjiYmJ4YYbbuD555933LCsjbL7LX0cJpOpxqN3KkttXFNVpVgeOnQox44dc0zT6ObmRuvWrRkwYAAGg4HY2NhybZk0aVKdby6XTedcktb61VdfpUePHvTp04cVK1ZUeh/jciOplUWTI6mVhagZSa0shBDCJQn6QgjRjEjQF0KIZkSCvhBCNCMS9IUQohmRoC+EEM2IBH0hXFi9ejVKKQ4cuJj3Jykpqd4Sb7322mt0794dpRRpaWn1UqcQ1SFBXwgXYmNjueqqq+r8xGdFhg0bxsaNG+ncuXOD1C9ERSToC1FGTk4O33//PW+99VaFQT8vL48pU6YQHR3N1KlT+c1vfuOY2CQ2NpaoqCgiIyN59NFHXW7ft29fp4k7hGgstUqtLERj+e6DQ6SdzKnXOoM7+jF8Ss8Kl3/66aeMGTOGnj17EhgYyO7du50e1Qd4/fXXadWqFXv37iU+Pt6RTvj06dM8+uij7Nq1i1atWjF69Gg+/fRTp5THQlxKcqUvRBmxsbFMmzYNKJ/Ct8TWrVsd60RGRhIdHQ3Y0gePGDGCkJAQ3NzcmDFjBlu2bGm8xgtRBbnSF01aZVfkDSE9PZ2vv/6a+Ph4lFJYLBaUUjz33HNO61WUs6qp57ISQq70hSjlo48+YubMmRw/fpykpCROnjxJ165d2bp1q9N6V111lSMP+/79+x2pd3/zm9/w7bffkpaWhsViITY2lmuuuabRj0OIikjQF6KUilL4vv/++05l9913H6mpqURHR7N48WKio6MJCAigXbt2LFq0iJEjRxITE0O/fv2YMGFCuf288sorhIaGkpycTHR0NHfffXeDHpcQJSS1smhyLofUyhaLheLiYry8vDh69CijRo3i0KFD1ZqfVYj6VpPUytKnL0Qt5OXlMXLkSIqLi9Fa88Ybb0jAF5cFCfpC1IK/vz/yC1RcjqRPXwghmhEJ+kII0YxI0BdCiGakyqCvlPqPUuqcUiq+VFmgUuorpdRh+99WpZYtUEodUUodVErdUKq8v1Jqn33ZK0opVf+HI4QQojLVudJfAYwpU/YYsElr3QPYZP+MUqoPMA2IsG/zulLKaN/mDWAu0MP+KlunEE1GQ6dWnjFjBr169SIyMpI5c+ZQXFxcL/UKUZUqg77WegtwvkzxBGCl/f1K4JZS5XFa60Kt9a/AEWCQUqod0EJrvV3bHgx4p9Q2QjQ5DZ1aecaMGRw4cIB9+/aRn5/Pm2++2SD7EaKs2vbpt9FapwDY/7a2l3cATpZaL9le1sH+vmy5S0qpuUqpnUqpnampqbVsohC10xiplceOHYtSCqUUgwYNIjk52eV6QtS3+h6n76qfXldS7pLWejmwHGxP5NZP08TlaPOK5Zw7fqxe62zduRsj75xb4fLGTK1cXFzMf//7X15++eX6O0AhKlHbK/2z9i4b7H/P2cuTgY6l1gsFTtvLQ12UC9HkNGZq5fvuu4+rr76a4cOHN8CRCFFeba/01wKzgGftf9eUKn9fKfUS0B7bDdsftdYWpVS2UmowsAOYCbxap5aLZqGyK/KG0Jiplf/+97+TmprKsmXL6tRmIWqiOkM2Y4HtQC+lVLJS6i5swf56pdRh4Hr7Z7TWCcAHwH5gAzBPa22xV3Uv8Ca2m7tHgfX1fCxC1FljpVZ+8803+eKLL4iNjcVgkMdlROOpzuid27XW7bTW7lrrUK31W1rrdK31KK11D/vf86XWX6i1DtNa99Jary9VvlNrHWlfdr9u6uk9RbPUWKmVf/e733H27FmGDBmCyWTiqaeeatDjEqKEpFYWTY6kVhaiZiS1shANTFIri8uVBH0hakFSK4vLldxBEkKIZkSCvhBCNCMS9IUQohmRoC+EEM2IBH0hyli4cCERERFER0djMpnYsWMHYHvadu7cufTp04eoqCi2b9/utF2XLl2IiooiJiaG0aNHc+bMmXJ133nnnXTt2hWTyYTJZGLPnj2OuufPn0/37t2Jjo5m9+7djm02bNhAr1696N69O88++2wDHrloDmT0jhClbN++nXXr1rF79248PT1JS0ujqKgIsOXbOXz4MAkJCeTn55OdnV1u+82bNxMcHMzjjz/OM888wyuvvFJuneeff57bbrvNqWz9+vUcPnyYw4cPs2PHDu6991527NiBxWJh3rx5fPXVV4SGhjJw4EDGjx9Pnz59GuYEiCueXOkLUUpKSgrBwcF4enoCEBwcTPv27QHw8PDg7NmzFBcX4+PjQ5s2bSqs5+qrr+bIkSPV3u+aNWuYOXMmSikGDx7MhQsXSElJ4ccff6R79+5069YNDw8Ppk2bxpo1a6quUIgKyJW+aNIu/O8oRadz67VOj/a+tBwX5nLZ6NGjeeqpp+jZsyfXXXcdU6dOdeTOadOmDVlZWdx555289957VDbj57p164iKinK57IknnuCpp55i1KhRPPvss3h6enLq1Ck6dryYoDY0NJRTp065LC/pbhKiNuRKX4hS/Pz82LVrF8uXLyckJISpU6eyYsUKAG677TY2bdqEj48PDz30EGDLwfPZZ585th85ciQmk4msrCwWLFhQrv5FixZx4MABfvrpJ86fP8/ixYsB19k5lVIVlgtRW3KlL5q0iq7IG5LRaGTEiBGMGDGCqKgoVq5cydixY0lLS6NXr14sW7aMSZMm8fe//52dO3fy/PPPO7Yt6dOvSLt27QDw9PRk9uzZvPDCC4DtCv7kyYuTziUnJ9O+fXuKiopclgtRW3KlL0QpBw8e5PDhw47Pe/bsoXPnzoSEhKC1ZvPmzRiNRpYvX87LL79Mv3798PX1rXb9KSkpgO3K/tNPP3VMtD5+/HjeeecdtNb88MMPjoydAwcO5PDhw/z6668UFRURFxfH+PHj6/egRbMiV/pClJKTk8MDDzzAhQsXcHNzo3v37ixfvhylFB9//DHz588nLy8PHx8fXnvtNZ577jk++uijcqNxKjJjxgxSU1PRWmMymfjXv/4F2ObM/fzzz+nevTs+Pj68/fbbALi5ufHaa69xww03YLFYmDNnDhEREQ12/OLKJ6mVRZNzOaRWFqIpqUlqZeneEUKIZkSCvhBCNCMS9EWT1NS7HYVoKmr6/4oEfdHkeHl5kZ6eLoFfiCporUlPT8fLy6va28joHdHkhIaGkpycTGpq6qVuihBNnpeXF6GhodVev05BXymVBGQDFsCstR6glAoEVgFdgCRgitY6w77+AuAu+/rztdZf1GX/4srk7u5O165dL3UzhLgi1Uf3zkittanU0KDHgE1a6x7AJvtnlFJ9gGlABDAGeF0pZayH/QshhKimhujTnwCstL9fCdxSqjxOa12otf4VOAIMaoD9CyGEqEBdg74GvlRK7VJKzbWXtdFapwDY/7a2l3cATpbaNtleJoQQopHU9UbuMK31aaVUa+ArpdSBStZ1lRrQ5fAM+xfIXIBOnTrVsYlCCCFK1OlKX2t92v73HLAaW3fNWaVUOwD733P21ZOBjqU2DwVOV1Dvcq31AK31gJCQkLo0UQghRCm1DvpKKV+llH/Je2A0EA+sBWbZV5sFlEzzsxaYppTyVEp1BXoAP9Z2/0IIIWquLt07bYDV9gkd3ID3tdYblFI/AR8ope4CTgCTAbTWCUqpD4D9gBmYp7W21Kn1QgghaqTWQV9rfQyIcVGeDoyqYJuFwMLa7lMIIUTdSBoGIYRoRiToCyFEMyJBXwghmhEJ+kII0YxI0BdCiGZEgr4QQjQjEvSFEKIZkaAvhBDNiAR9IYRoRiToCyFEMyJBXwghmhEJ+kII0YxI0BdCiGZEgr4QQjQjEvSFEKIZkaAvhBDNiAR9IYRoRiToCyFEMyJBXwghmhEJ+kII0YxI0BdCiGZEgr4QQjQjjR70lVJjlFIHlVJHlFKPNfb+hRCiOWvUoK+UMgJLgRuBPsDtSqk+jdkGIYRoztwaeX+DgCNa62MASqk4YAKw4H2gzgAAC5BJREFUv753tOy3v8NSaKnvaoUQotHcsWQx/q0C67XOxg76HYCTpT4nA78pu5JSai4wF6BTp0612lFeZhZWnVWrbYUQoinIy8m67IO+clGmyxVovRxYDjBgwIByy6tj8j/+TFFhcW02FUKIJiGwTft6r7Oxg34y0LHU51DgdEPsKLSH3CoQQoiyGnv0zk9AD6VUV6WUBzANWNvIbRBCiGarUa/0tdZmpdT9wBeAEfiP1jqhMdsghBDNWWN376C1/hz4vLH3K4QQQp7IFUKIZkWCvhBCNCMS9IUQohlRWtdqGHyjUUqlAscvdTuAYCDtUjfChabYrqbYJmia7ZI2VV9TbFdTblNnrXVI2YVNPug3FUqpnVrrAZe6HWU1xXY1xTZB02yXtKn6mmK7Lsc2SfeOEEI0IxL0hRCiGZGgX33LL3UDKtAU29UU2wRNs13Spupriu267NokffpCCNGMyJW+EEI0IxL0hRCiGZGgL4QQzYgEfTul1B+VUqPt711N9nJJNKW2lJBzVX1yrqpPzlX11eVcNfugr9T/t3f+MVKUdxx+PhwnHJzF0vbEH4lUgZRCEAXFJqUnVE1bW5VEWiOV/qYhUUhbK4nWokKjbVobFbEVUzUK2EalNFShJVIMNTRGAzQWY0XUUKmUSBsohXLct3+878p45Y7du52dl93vk0xu592Z3Wc/O/fO7DvvvKNLJK0B5gEzASyBs9uSLpf0MHB20S4lPKvy8azKx7Mqn2pkVfOhlVMg7hmbge8D7cDtwAnAeZKagY4iNjpJMjOTNAVYABwCPibpDTPbU2ufkhOeVdlOeFZlO+FZle1ENbMys4aaiN1U4+PzMo/bgW2JeA0HTgGmAg8B7Qk4eVaelWdVB1k1VPNOvGvXk5K+JekUM3s+ljeb2XrgNUmfLthrmJm9bmY7zewZ4G2gXdJpBTp5VuU7eVblO3lW5TtVLauGqfQlTQO+BNwNjANuklRqq+uQNJQwmufhgr2+J2l8ZpGlwChgUpf1cju55Fn1ycmzKt/JsyrfqWpZNUylT/jC7jOzdcAtwHZgLoQTIWb2DtACTAGQVKtsjuY1p/SkmW0h3FB+rKSpkuaVnGvs5FmV7+RZle/kWZXvVJWs6r7Sz+yNXwOuBjCzN4DfAoMlXZZZ/FHgfEkDzawzIa/lwNeBXxLGys7lKMOzys3JsyrfKbesun62FLLqo1Ovsqq7Sl/S8Ox8Zm/8OLBf0uVxfifwB+CjmaBbgMfI4eelpImS2ir1ktQK3AX8GRhnZt/tsn7NnWJZnlldJGlCpV45Z9Urp1iWZ1ZDMo+VSFa9copluWVFl96KKWTVW6dY1qus6qbSl3SupLXAbZKaMuWlgPYAK4DZcUP8F9AKDMgEvdLMlpjZoSp6jZH0HDAfOKkCr4HR6wAw18wuNbOdBTvlndU5kp6O7z2iAq88s+qtU95ZTZK0Elgi6auSBpiZZbb9IrLqrVPeWV0gaSlwq6SRJR9JpQq3iKx669TnrI77Sj/uiW8i/Px6zMxmmtnh+Fy/TEAtwBrCHvN+SacC5wAdpdcqrVdl5gIrzOxzZvZKBV6HolOHme1KxCmXrCQ1SbofWEIYFnYZMDo+17+IrKrglNt2JWkccC/haPBxQrfCEV3eq6bbVR+d8sxqLHAPsArYBcziyEVNpfetdVZ9cepzVsd9pR//+U4ANpjZA/Du0Vl/wOL8AsJe82TgO4QuWMuAfwJ35OEVK42h0WFRLJsm6XRgUJxfWEuvFJ3g3Y13NTDZzFYATwJTFNoqO6LXLbX0StEpwwTgVTN7BPg9MBB4s/Tro4jtPVEngAuAl81sOWEHvh+YIenMAr2KdbKCLoToy0S4MGFSZn4w4R/0J4Sz7KsI3ayuIPwkWgaM6PIag2rgNRDYClxKOOmyGngQuI9whV3uXik6Hc0rUy7gIsI/w9BY1ha9zqplVik4dfMdtgEHgR8AO4CNwC+A6+P3W8R2VbhTN15nE9rCR8T5+YRfIrfGeqPm21XRTlUNPO8JOJFwxPVO3KDen3luBrAW+ESc/2aszM7ILNOvAK8bgNeBa+L8acCfgE/m6ZWiU09ehIq1dFOf0wm9F049yvo1y6pIpzK+w48APwRmxvl24Cng3AK3q0KcuvEq7ZxbgR8BzwK/JhwQXgX8OOtSo6wKdzI7/q7I/S/wDPBF4C1geukJM1sKfN7Mno1Fa4GhxHa52GadV3e5br2AxYT2ubbo+TdgPeGoOk+vFJ269bJIfO8dhJ3QldkVa51VwU7dekW3lwmV7I5Y9EJcptScUvPtqkCnbr3MbJ+Z3QBcCzxoZp8FXgXGlFwK2K6KdEq/0pc0U1K7pJPM7CDwAKFCfwWYKGlUXE4WLlgocTGh7XofQLUDLNfLzPYB1wEzJY2XNJvQVLC92l4pOlXiVdrQ4/mYvwL/zr5OEVnV0qkSr8jvgPmx3fwqYCywu9peKTqV4TUh62VmW8xsZZydCmwsnW+oYVaFOP2fY/wZkRTxgw8jtG11AtsIbV1zzWx3XGYk4TLlA2a2MJb1Az5O6FP7JjAvHn0U6hXLv0BoyxsD3GhmL9WrU1+8MpXsT4F9ZnZzPTv1wuugmS2IZS2EnkVtQBMwx8z+Uq9OvfDqur1PIJz3OwzMMrNt9erUI3m0GfVlApri31HAo/Fxf0IXpye6LDuN0FQxgnCySMBZwGUJeQ0GmmO56t2pCt/h4MSyys2pD14jiSf24rLD6t2pj99hSyz7AFUeLTNFp2NNyYynH38+3wY0SXoKeB/xSjMz65A0B3hLUruFEeYwsxWSRhN6oLQCUy0cVVRtb1klrynAVovfcj06peqVolMVvJ4GWiVNMbOtwN/r1akKXqujV6luWF+vTmVTyz1MD3vLdmAzodvgNwhntT9FaKI5P7PcbGBdZn46oY11CdDWCF4pOqXqlaJTql4pOqXqlaJTRf5FvXGXECcTuw/G+cUxsC8DL8SyfoR2s18BH86sN7mRvFJ0StUrRadUvVJ0StUrRaeK/IsWiGEMAgZwpH1sBnB7fLwJuC4+nggsb2SvFJ1S9UrRKVWvFJ1S9UrRqZIpiS6bZrbfzA7akbEkLgb+ER9/BRgtaRVhfJ0XG9krRadUvVJ0StUrRadUvVJ0qoRkTuRCGBuG0Lf+ZOA3sXgvcCOhv+92CxcSNbxXik6peqXolKpXik6peqXoVA5JHOln6CRcFbobGBf3ljcDnWa2ocAAU/RK0SlVrxSdUvVK0SlVrxSdjk3R7UtdJ8IIdJ3ABuBrRfuk7JWiU6peKTql6pWiU6peKToda0ruilyFYX6vAe60cBlzEqTolaITpOmVohOk6ZWiE6TplaLTsUiu0nccx3HyI7U2fcdxHCdHvNJ3HMdpILzSdxzHaSC80nccx2kgvNJ3nAySDkvaJOklSZslfTvep6GndYZLurpWjo7TF7zSd5z38h8zG29mYwiX13+GcOPqnhgOeKXvHBd4l03HySBpn5m1ZubPBJ4HPgicATxCuAkNwLVm9pykjcBowu0mHwbuBu4ALiQMzHWvmf28Zh/CcXrAK33HydC10o9lewg3/N5LuMT+QLz93XIzmyjpQuB6Cze4RtIswnjpCyUNAP4ITDez7TX9MI5zFJIacM1xEkXxbzOwSNJ4wl2SRnWz/CWEsViujPNDCLcT9ErfKRyv9B2nB2LzzmFgF6Ft/23CzeT7AQe6W40wpvqamkg6TgX4iVzH6QZJHwJ+Biyy0A46BNhpZp2E8Vaa4qJ7gRMzq64BZktqjq8zStJgHCcB/Ejfcd5Li6RNhKacDsKJ2zvjc4uBJyRNB9YR7ncKsAXokLQZeAi4i9Cj50VJItxg44pafQDH6Qk/kes4jtNAePOO4zhOA+GVvuM4TgPhlb7jOE4D4ZW+4zhOA+GVvuM4TgPhlb7jOE4D4ZW+4zhOA+GVvuM4TgPxPya1RjViOzNXAAAAAElFTkSuQmCC\n",
>>>>>>> 1ae967017cfd9ba8c776fb786cfdba66c6eff196
      "text/plain": [
       "<Figure size 432x288 with 1 Axes>"
      ]
     },
     "metadata": {
      "needs_background": "light"
     },
     "output_type": "display_data"
    }
   ],
   "source": [
    "joined_data_rows.rolling(window=21).mean().plot()"
   ]
  },
  {
   "cell_type": "code",
<<<<<<< HEAD
   "execution_count": 80,
=======
   "execution_count": 35,
>>>>>>> 1ae967017cfd9ba8c776fb786cfdba66c6eff196
   "metadata": {},
   "outputs": [
    {
     "data": {
      "text/html": [
       "<div>\n",
       "<style scoped>\n",
       "    .dataframe tbody tr th:only-of-type {\n",
       "        vertical-align: middle;\n",
       "    }\n",
       "\n",
       "    .dataframe tbody tr th {\n",
       "        vertical-align: top;\n",
       "    }\n",
       "\n",
       "    .dataframe thead th {\n",
       "        text-align: right;\n",
       "    }\n",
       "</style>\n",
       "<table border=\"1\" class=\"dataframe\">\n",
       "  <thead>\n",
       "    <tr style=\"text-align: right;\">\n",
       "      <th></th>\n",
       "      <th>SOROS FUND MANAGEMENT LLC</th>\n",
       "      <th>PAULSON &amp; CO.INC.</th>\n",
       "      <th>TIGER GLOBAL MANAGEMENT LLC</th>\n",
       "      <th>BERKSHIRE HATHAWAY INC</th>\n",
       "      <th>Algo 1</th>\n",
       "      <th>Algo 2</th>\n",
<<<<<<< HEAD
       "      <th>Close</th>\n",
=======
       "      <th>S&amp;P 500</th>\n",
>>>>>>> 1ae967017cfd9ba8c776fb786cfdba66c6eff196
       "    </tr>\n",
       "  </thead>\n",
       "  <tbody>\n",
       "    <tr>\n",
       "      <th>SOROS FUND MANAGEMENT LLC</th>\n",
       "      <td>1.000000</td>\n",
       "      <td>0.002890</td>\n",
       "      <td>0.022263</td>\n",
       "      <td>0.000339</td>\n",
       "      <td>0.000038</td>\n",
       "      <td>-0.005757</td>\n",
<<<<<<< HEAD
       "      <td>0.040055</td>\n",
=======
       "      <td>0.015614</td>\n",
>>>>>>> 1ae967017cfd9ba8c776fb786cfdba66c6eff196
       "    </tr>\n",
       "    <tr>\n",
       "      <th>PAULSON &amp; CO.INC.</th>\n",
       "      <td>0.002890</td>\n",
       "      <td>1.000000</td>\n",
       "      <td>0.035632</td>\n",
       "      <td>0.002151</td>\n",
       "      <td>0.006392</td>\n",
       "      <td>0.010881</td>\n",
<<<<<<< HEAD
       "      <td>0.002569</td>\n",
=======
       "      <td>0.009784</td>\n",
>>>>>>> 1ae967017cfd9ba8c776fb786cfdba66c6eff196
       "    </tr>\n",
       "    <tr>\n",
       "      <th>TIGER GLOBAL MANAGEMENT LLC</th>\n",
       "      <td>0.022263</td>\n",
       "      <td>0.035632</td>\n",
       "      <td>1.000000</td>\n",
       "      <td>-0.014014</td>\n",
       "      <td>0.003318</td>\n",
       "      <td>-0.004644</td>\n",
<<<<<<< HEAD
       "      <td>-0.007977</td>\n",
=======
       "      <td>0.053455</td>\n",
>>>>>>> 1ae967017cfd9ba8c776fb786cfdba66c6eff196
       "    </tr>\n",
       "    <tr>\n",
       "      <th>BERKSHIRE HATHAWAY INC</th>\n",
       "      <td>0.000339</td>\n",
       "      <td>0.002151</td>\n",
       "      <td>-0.014014</td>\n",
       "      <td>1.000000</td>\n",
       "      <td>-0.005766</td>\n",
       "      <td>0.003690</td>\n",
<<<<<<< HEAD
       "      <td>-0.010798</td>\n",
=======
       "      <td>-0.019663</td>\n",
>>>>>>> 1ae967017cfd9ba8c776fb786cfdba66c6eff196
       "    </tr>\n",
       "    <tr>\n",
       "      <th>Algo 1</th>\n",
       "      <td>0.000038</td>\n",
       "      <td>0.006392</td>\n",
       "      <td>0.003318</td>\n",
       "      <td>-0.005766</td>\n",
       "      <td>1.000000</td>\n",
       "      <td>0.000467</td>\n",
<<<<<<< HEAD
       "      <td>-0.005263</td>\n",
=======
       "      <td>0.000931</td>\n",
>>>>>>> 1ae967017cfd9ba8c776fb786cfdba66c6eff196
       "    </tr>\n",
       "    <tr>\n",
       "      <th>Algo 2</th>\n",
       "      <td>-0.005757</td>\n",
       "      <td>0.010881</td>\n",
       "      <td>-0.004644</td>\n",
       "      <td>0.003690</td>\n",
       "      <td>0.000467</td>\n",
       "      <td>1.000000</td>\n",
<<<<<<< HEAD
       "      <td>0.002378</td>\n",
       "    </tr>\n",
       "    <tr>\n",
       "      <th>Close</th>\n",
       "      <td>0.040055</td>\n",
       "      <td>0.002569</td>\n",
       "      <td>-0.007977</td>\n",
       "      <td>-0.010798</td>\n",
       "      <td>-0.005263</td>\n",
       "      <td>0.002378</td>\n",
=======
       "      <td>-0.114632</td>\n",
       "    </tr>\n",
       "    <tr>\n",
       "      <th>S&amp;P 500</th>\n",
       "      <td>0.015614</td>\n",
       "      <td>0.009784</td>\n",
       "      <td>0.053455</td>\n",
       "      <td>-0.019663</td>\n",
       "      <td>0.000931</td>\n",
       "      <td>-0.114632</td>\n",
>>>>>>> 1ae967017cfd9ba8c776fb786cfdba66c6eff196
       "      <td>1.000000</td>\n",
       "    </tr>\n",
       "  </tbody>\n",
       "</table>\n",
       "</div>"
      ],
      "text/plain": [
       "                             SOROS FUND MANAGEMENT LLC  PAULSON & CO.INC.   \\\n",
       "SOROS FUND MANAGEMENT LLC                     1.000000            0.002890   \n",
       "PAULSON & CO.INC.                             0.002890            1.000000   \n",
       "TIGER GLOBAL MANAGEMENT LLC                   0.022263            0.035632   \n",
       "BERKSHIRE HATHAWAY INC                        0.000339            0.002151   \n",
       "Algo 1                                        0.000038            0.006392   \n",
       "Algo 2                                       -0.005757            0.010881   \n",
<<<<<<< HEAD
       "Close                                         0.040055            0.002569   \n",
=======
       "S&P 500                                       0.015614            0.009784   \n",
>>>>>>> 1ae967017cfd9ba8c776fb786cfdba66c6eff196
       "\n",
       "                             TIGER GLOBAL MANAGEMENT LLC  \\\n",
       "SOROS FUND MANAGEMENT LLC                       0.022263   \n",
       "PAULSON & CO.INC.                               0.035632   \n",
       "TIGER GLOBAL MANAGEMENT LLC                     1.000000   \n",
       "BERKSHIRE HATHAWAY INC                         -0.014014   \n",
       "Algo 1                                          0.003318   \n",
       "Algo 2                                         -0.004644   \n",
<<<<<<< HEAD
       "Close                                          -0.007977   \n",
=======
       "S&P 500                                         0.053455   \n",
>>>>>>> 1ae967017cfd9ba8c776fb786cfdba66c6eff196
       "\n",
       "                             BERKSHIRE HATHAWAY INC    Algo 1    Algo 2  \\\n",
       "SOROS FUND MANAGEMENT LLC                  0.000339  0.000038 -0.005757   \n",
       "PAULSON & CO.INC.                          0.002151  0.006392  0.010881   \n",
       "TIGER GLOBAL MANAGEMENT LLC               -0.014014  0.003318 -0.004644   \n",
       "BERKSHIRE HATHAWAY INC                     1.000000 -0.005766  0.003690   \n",
       "Algo 1                                    -0.005766  1.000000  0.000467   \n",
       "Algo 2                                     0.003690  0.000467  1.000000   \n",
<<<<<<< HEAD
       "Close                                     -0.010798 -0.005263  0.002378   \n",
       "\n",
       "                                Close  \n",
       "SOROS FUND MANAGEMENT LLC    0.040055  \n",
       "PAULSON & CO.INC.            0.002569  \n",
       "TIGER GLOBAL MANAGEMENT LLC -0.007977  \n",
       "BERKSHIRE HATHAWAY INC      -0.010798  \n",
       "Algo 1                      -0.005263  \n",
       "Algo 2                       0.002378  \n",
       "Close                        1.000000  "
      ]
     },
     "execution_count": 80,
=======
       "S&P 500                                   -0.019663  0.000931 -0.114632   \n",
       "\n",
       "                              S&P 500  \n",
       "SOROS FUND MANAGEMENT LLC    0.015614  \n",
       "PAULSON & CO.INC.            0.009784  \n",
       "TIGER GLOBAL MANAGEMENT LLC  0.053455  \n",
       "BERKSHIRE HATHAWAY INC      -0.019663  \n",
       "Algo 1                       0.000931  \n",
       "Algo 2                      -0.114632  \n",
       "S&P 500                      1.000000  "
      ]
     },
     "execution_count": 35,
>>>>>>> 1ae967017cfd9ba8c776fb786cfdba66c6eff196
     "metadata": {},
     "output_type": "execute_result"
    }
   ],
   "source": [
    "correlation = jdr_dailyreturns.corr()\n",
    "correlation"
   ]
  },
  {
   "cell_type": "code",
<<<<<<< HEAD
   "execution_count": 92,
=======
   "execution_count": 38,
>>>>>>> 1ae967017cfd9ba8c776fb786cfdba66c6eff196
   "metadata": {},
   "outputs": [
    {
     "ename": "KeyError",
<<<<<<< HEAD
     "evalue": "'df'",
=======
     "evalue": "'S&P500'",
>>>>>>> 1ae967017cfd9ba8c776fb786cfdba66c6eff196
     "output_type": "error",
     "traceback": [
      "\u001b[1;31m---------------------------------------------------------------------------\u001b[0m",
      "\u001b[1;31mKeyError\u001b[0m                                  Traceback (most recent call last)",
      "\u001b[1;32m~\\Anaconda3\\lib\\site-packages\\pandas\\core\\indexes\\base.py\u001b[0m in \u001b[0;36mget_loc\u001b[1;34m(self, key, method, tolerance)\u001b[0m\n\u001b[0;32m   2645\u001b[0m             \u001b[1;32mtry\u001b[0m\u001b[1;33m:\u001b[0m\u001b[1;33m\u001b[0m\u001b[1;33m\u001b[0m\u001b[0m\n\u001b[1;32m-> 2646\u001b[1;33m                 \u001b[1;32mreturn\u001b[0m \u001b[0mself\u001b[0m\u001b[1;33m.\u001b[0m\u001b[0m_engine\u001b[0m\u001b[1;33m.\u001b[0m\u001b[0mget_loc\u001b[0m\u001b[1;33m(\u001b[0m\u001b[0mkey\u001b[0m\u001b[1;33m)\u001b[0m\u001b[1;33m\u001b[0m\u001b[1;33m\u001b[0m\u001b[0m\n\u001b[0m\u001b[0;32m   2647\u001b[0m             \u001b[1;32mexcept\u001b[0m \u001b[0mKeyError\u001b[0m\u001b[1;33m:\u001b[0m\u001b[1;33m\u001b[0m\u001b[1;33m\u001b[0m\u001b[0m\n",
      "\u001b[1;32mpandas\\_libs\\index.pyx\u001b[0m in \u001b[0;36mpandas._libs.index.IndexEngine.get_loc\u001b[1;34m()\u001b[0m\n",
      "\u001b[1;32mpandas\\_libs\\index.pyx\u001b[0m in \u001b[0;36mpandas._libs.index.IndexEngine.get_loc\u001b[1;34m()\u001b[0m\n",
      "\u001b[1;32mpandas\\_libs\\hashtable_class_helper.pxi\u001b[0m in \u001b[0;36mpandas._libs.hashtable.PyObjectHashTable.get_item\u001b[1;34m()\u001b[0m\n",
      "\u001b[1;32mpandas\\_libs\\hashtable_class_helper.pxi\u001b[0m in \u001b[0;36mpandas._libs.hashtable.PyObjectHashTable.get_item\u001b[1;34m()\u001b[0m\n",
<<<<<<< HEAD
      "\u001b[1;31mKeyError\u001b[0m: 'df'",
      "\nDuring handling of the above exception, another exception occurred:\n",
      "\u001b[1;31mKeyError\u001b[0m                                  Traceback (most recent call last)",
      "\u001b[1;32m<ipython-input-92-166e574fe55b>\u001b[0m in \u001b[0;36m<module>\u001b[1;34m\u001b[0m\n\u001b[1;32m----> 1\u001b[1;33m \u001b[0mcovariance\u001b[0m \u001b[1;33m=\u001b[0m \u001b[0mjdr_dailyreturns\u001b[0m\u001b[1;33m[\u001b[0m\u001b[1;34m'df'\u001b[0m\u001b[1;33m]\u001b[0m\u001b[1;33m.\u001b[0m\u001b[0mcov\u001b[0m\u001b[1;33m(\u001b[0m\u001b[0mjdr_dailyreturns\u001b[0m\u001b[1;33m[\u001b[0m\u001b[1;34m'daily_returns'\u001b[0m\u001b[1;33m]\u001b[0m\u001b[1;33m)\u001b[0m\u001b[1;33m\u001b[0m\u001b[1;33m\u001b[0m\u001b[0m\n\u001b[0m\u001b[0;32m      2\u001b[0m \u001b[0mcovariance\u001b[0m\u001b[1;33m\u001b[0m\u001b[1;33m\u001b[0m\u001b[0m\n",
=======
      "\u001b[1;31mKeyError\u001b[0m: 'S&P500'",
      "\nDuring handling of the above exception, another exception occurred:\n",
      "\u001b[1;31mKeyError\u001b[0m                                  Traceback (most recent call last)",
      "\u001b[1;32m<ipython-input-38-8cbcbd201e72>\u001b[0m in \u001b[0;36m<module>\u001b[1;34m\u001b[0m\n\u001b[1;32m----> 1\u001b[1;33m \u001b[0mjoined_data_rows\u001b[0m\u001b[1;33m.\u001b[0m\u001b[0mplot\u001b[0m\u001b[1;33m(\u001b[0m\u001b[0mkind\u001b[0m\u001b[1;33m=\u001b[0m\u001b[1;34m'scatter'\u001b[0m\u001b[1;33m,\u001b[0m \u001b[0mx\u001b[0m\u001b[1;33m=\u001b[0m\u001b[1;34m'S&P500'\u001b[0m\u001b[1;33m,\u001b[0m \u001b[0my\u001b[0m\u001b[1;33m=\u001b[0m\u001b[1;34m'Algo 1'\u001b[0m\u001b[1;33m)\u001b[0m\u001b[1;33m\u001b[0m\u001b[1;33m\u001b[0m\u001b[0m\n\u001b[0m",
      "\u001b[1;32m~\\Anaconda3\\lib\\site-packages\\pandas\\plotting\\_core.py\u001b[0m in \u001b[0;36m__call__\u001b[1;34m(self, *args, **kwargs)\u001b[0m\n\u001b[0;32m    790\u001b[0m         \u001b[1;32mif\u001b[0m \u001b[0mkind\u001b[0m \u001b[1;32min\u001b[0m \u001b[0mself\u001b[0m\u001b[1;33m.\u001b[0m\u001b[0m_dataframe_kinds\u001b[0m\u001b[1;33m:\u001b[0m\u001b[1;33m\u001b[0m\u001b[1;33m\u001b[0m\u001b[0m\n\u001b[0;32m    791\u001b[0m             \u001b[1;32mif\u001b[0m \u001b[0misinstance\u001b[0m\u001b[1;33m(\u001b[0m\u001b[0mdata\u001b[0m\u001b[1;33m,\u001b[0m \u001b[0mABCDataFrame\u001b[0m\u001b[1;33m)\u001b[0m\u001b[1;33m:\u001b[0m\u001b[1;33m\u001b[0m\u001b[1;33m\u001b[0m\u001b[0m\n\u001b[1;32m--> 792\u001b[1;33m                 \u001b[1;32mreturn\u001b[0m \u001b[0mplot_backend\u001b[0m\u001b[1;33m.\u001b[0m\u001b[0mplot\u001b[0m\u001b[1;33m(\u001b[0m\u001b[0mdata\u001b[0m\u001b[1;33m,\u001b[0m \u001b[0mx\u001b[0m\u001b[1;33m=\u001b[0m\u001b[0mx\u001b[0m\u001b[1;33m,\u001b[0m \u001b[0my\u001b[0m\u001b[1;33m=\u001b[0m\u001b[0my\u001b[0m\u001b[1;33m,\u001b[0m \u001b[0mkind\u001b[0m\u001b[1;33m=\u001b[0m\u001b[0mkind\u001b[0m\u001b[1;33m,\u001b[0m \u001b[1;33m**\u001b[0m\u001b[0mkwargs\u001b[0m\u001b[1;33m)\u001b[0m\u001b[1;33m\u001b[0m\u001b[1;33m\u001b[0m\u001b[0m\n\u001b[0m\u001b[0;32m    793\u001b[0m             \u001b[1;32melse\u001b[0m\u001b[1;33m:\u001b[0m\u001b[1;33m\u001b[0m\u001b[1;33m\u001b[0m\u001b[0m\n\u001b[0;32m    794\u001b[0m                 \u001b[1;32mraise\u001b[0m \u001b[0mValueError\u001b[0m\u001b[1;33m(\u001b[0m\u001b[1;34mf\"plot kind {kind} can only be used for data frames\"\u001b[0m\u001b[1;33m)\u001b[0m\u001b[1;33m\u001b[0m\u001b[1;33m\u001b[0m\u001b[0m\n",
      "\u001b[1;32m~\\Anaconda3\\lib\\site-packages\\pandas\\plotting\\_matplotlib\\__init__.py\u001b[0m in \u001b[0;36mplot\u001b[1;34m(data, kind, **kwargs)\u001b[0m\n\u001b[0;32m     59\u001b[0m             \u001b[0mkwargs\u001b[0m\u001b[1;33m[\u001b[0m\u001b[1;34m\"ax\"\u001b[0m\u001b[1;33m]\u001b[0m \u001b[1;33m=\u001b[0m \u001b[0mgetattr\u001b[0m\u001b[1;33m(\u001b[0m\u001b[0max\u001b[0m\u001b[1;33m,\u001b[0m \u001b[1;34m\"left_ax\"\u001b[0m\u001b[1;33m,\u001b[0m \u001b[0max\u001b[0m\u001b[1;33m)\u001b[0m\u001b[1;33m\u001b[0m\u001b[1;33m\u001b[0m\u001b[0m\n\u001b[0;32m     60\u001b[0m     \u001b[0mplot_obj\u001b[0m \u001b[1;33m=\u001b[0m \u001b[0mPLOT_CLASSES\u001b[0m\u001b[1;33m[\u001b[0m\u001b[0mkind\u001b[0m\u001b[1;33m]\u001b[0m\u001b[1;33m(\u001b[0m\u001b[0mdata\u001b[0m\u001b[1;33m,\u001b[0m \u001b[1;33m**\u001b[0m\u001b[0mkwargs\u001b[0m\u001b[1;33m)\u001b[0m\u001b[1;33m\u001b[0m\u001b[1;33m\u001b[0m\u001b[0m\n\u001b[1;32m---> 61\u001b[1;33m     \u001b[0mplot_obj\u001b[0m\u001b[1;33m.\u001b[0m\u001b[0mgenerate\u001b[0m\u001b[1;33m(\u001b[0m\u001b[1;33m)\u001b[0m\u001b[1;33m\u001b[0m\u001b[1;33m\u001b[0m\u001b[0m\n\u001b[0m\u001b[0;32m     62\u001b[0m     \u001b[0mplot_obj\u001b[0m\u001b[1;33m.\u001b[0m\u001b[0mdraw\u001b[0m\u001b[1;33m(\u001b[0m\u001b[1;33m)\u001b[0m\u001b[1;33m\u001b[0m\u001b[1;33m\u001b[0m\u001b[0m\n\u001b[0;32m     63\u001b[0m     \u001b[1;32mreturn\u001b[0m \u001b[0mplot_obj\u001b[0m\u001b[1;33m.\u001b[0m\u001b[0mresult\u001b[0m\u001b[1;33m\u001b[0m\u001b[1;33m\u001b[0m\u001b[0m\n",
      "\u001b[1;32m~\\Anaconda3\\lib\\site-packages\\pandas\\plotting\\_matplotlib\\core.py\u001b[0m in \u001b[0;36mgenerate\u001b[1;34m(self)\u001b[0m\n\u001b[0;32m    261\u001b[0m         \u001b[0mself\u001b[0m\u001b[1;33m.\u001b[0m\u001b[0m_compute_plot_data\u001b[0m\u001b[1;33m(\u001b[0m\u001b[1;33m)\u001b[0m\u001b[1;33m\u001b[0m\u001b[1;33m\u001b[0m\u001b[0m\n\u001b[0;32m    262\u001b[0m         \u001b[0mself\u001b[0m\u001b[1;33m.\u001b[0m\u001b[0m_setup_subplots\u001b[0m\u001b[1;33m(\u001b[0m\u001b[1;33m)\u001b[0m\u001b[1;33m\u001b[0m\u001b[1;33m\u001b[0m\u001b[0m\n\u001b[1;32m--> 263\u001b[1;33m         \u001b[0mself\u001b[0m\u001b[1;33m.\u001b[0m\u001b[0m_make_plot\u001b[0m\u001b[1;33m(\u001b[0m\u001b[1;33m)\u001b[0m\u001b[1;33m\u001b[0m\u001b[1;33m\u001b[0m\u001b[0m\n\u001b[0m\u001b[0;32m    264\u001b[0m         \u001b[0mself\u001b[0m\u001b[1;33m.\u001b[0m\u001b[0m_add_table\u001b[0m\u001b[1;33m(\u001b[0m\u001b[1;33m)\u001b[0m\u001b[1;33m\u001b[0m\u001b[1;33m\u001b[0m\u001b[0m\n\u001b[0;32m    265\u001b[0m         \u001b[0mself\u001b[0m\u001b[1;33m.\u001b[0m\u001b[0m_make_legend\u001b[0m\u001b[1;33m(\u001b[0m\u001b[1;33m)\u001b[0m\u001b[1;33m\u001b[0m\u001b[1;33m\u001b[0m\u001b[0m\n",
      "\u001b[1;32m~\\Anaconda3\\lib\\site-packages\\pandas\\plotting\\_matplotlib\\core.py\u001b[0m in \u001b[0;36m_make_plot\u001b[1;34m(self)\u001b[0m\n\u001b[0;32m    968\u001b[0m             \u001b[0mlabel\u001b[0m \u001b[1;33m=\u001b[0m \u001b[1;32mNone\u001b[0m\u001b[1;33m\u001b[0m\u001b[1;33m\u001b[0m\u001b[0m\n\u001b[0;32m    969\u001b[0m         scatter = ax.scatter(\n\u001b[1;32m--> 970\u001b[1;33m             \u001b[0mdata\u001b[0m\u001b[1;33m[\u001b[0m\u001b[0mx\u001b[0m\u001b[1;33m]\u001b[0m\u001b[1;33m.\u001b[0m\u001b[0mvalues\u001b[0m\u001b[1;33m,\u001b[0m\u001b[1;33m\u001b[0m\u001b[1;33m\u001b[0m\u001b[0m\n\u001b[0m\u001b[0;32m    971\u001b[0m             \u001b[0mdata\u001b[0m\u001b[1;33m[\u001b[0m\u001b[0my\u001b[0m\u001b[1;33m]\u001b[0m\u001b[1;33m.\u001b[0m\u001b[0mvalues\u001b[0m\u001b[1;33m,\u001b[0m\u001b[1;33m\u001b[0m\u001b[1;33m\u001b[0m\u001b[0m\n\u001b[0;32m    972\u001b[0m             \u001b[0mc\u001b[0m\u001b[1;33m=\u001b[0m\u001b[0mc_values\u001b[0m\u001b[1;33m,\u001b[0m\u001b[1;33m\u001b[0m\u001b[1;33m\u001b[0m\u001b[0m\n",
>>>>>>> 1ae967017cfd9ba8c776fb786cfdba66c6eff196
      "\u001b[1;32m~\\Anaconda3\\lib\\site-packages\\pandas\\core\\frame.py\u001b[0m in \u001b[0;36m__getitem__\u001b[1;34m(self, key)\u001b[0m\n\u001b[0;32m   2798\u001b[0m             \u001b[1;32mif\u001b[0m \u001b[0mself\u001b[0m\u001b[1;33m.\u001b[0m\u001b[0mcolumns\u001b[0m\u001b[1;33m.\u001b[0m\u001b[0mnlevels\u001b[0m \u001b[1;33m>\u001b[0m \u001b[1;36m1\u001b[0m\u001b[1;33m:\u001b[0m\u001b[1;33m\u001b[0m\u001b[1;33m\u001b[0m\u001b[0m\n\u001b[0;32m   2799\u001b[0m                 \u001b[1;32mreturn\u001b[0m \u001b[0mself\u001b[0m\u001b[1;33m.\u001b[0m\u001b[0m_getitem_multilevel\u001b[0m\u001b[1;33m(\u001b[0m\u001b[0mkey\u001b[0m\u001b[1;33m)\u001b[0m\u001b[1;33m\u001b[0m\u001b[1;33m\u001b[0m\u001b[0m\n\u001b[1;32m-> 2800\u001b[1;33m             \u001b[0mindexer\u001b[0m \u001b[1;33m=\u001b[0m \u001b[0mself\u001b[0m\u001b[1;33m.\u001b[0m\u001b[0mcolumns\u001b[0m\u001b[1;33m.\u001b[0m\u001b[0mget_loc\u001b[0m\u001b[1;33m(\u001b[0m\u001b[0mkey\u001b[0m\u001b[1;33m)\u001b[0m\u001b[1;33m\u001b[0m\u001b[1;33m\u001b[0m\u001b[0m\n\u001b[0m\u001b[0;32m   2801\u001b[0m             \u001b[1;32mif\u001b[0m \u001b[0mis_integer\u001b[0m\u001b[1;33m(\u001b[0m\u001b[0mindexer\u001b[0m\u001b[1;33m)\u001b[0m\u001b[1;33m:\u001b[0m\u001b[1;33m\u001b[0m\u001b[1;33m\u001b[0m\u001b[0m\n\u001b[0;32m   2802\u001b[0m                 \u001b[0mindexer\u001b[0m \u001b[1;33m=\u001b[0m \u001b[1;33m[\u001b[0m\u001b[0mindexer\u001b[0m\u001b[1;33m]\u001b[0m\u001b[1;33m\u001b[0m\u001b[1;33m\u001b[0m\u001b[0m\n",
      "\u001b[1;32m~\\Anaconda3\\lib\\site-packages\\pandas\\core\\indexes\\base.py\u001b[0m in \u001b[0;36mget_loc\u001b[1;34m(self, key, method, tolerance)\u001b[0m\n\u001b[0;32m   2646\u001b[0m                 \u001b[1;32mreturn\u001b[0m \u001b[0mself\u001b[0m\u001b[1;33m.\u001b[0m\u001b[0m_engine\u001b[0m\u001b[1;33m.\u001b[0m\u001b[0mget_loc\u001b[0m\u001b[1;33m(\u001b[0m\u001b[0mkey\u001b[0m\u001b[1;33m)\u001b[0m\u001b[1;33m\u001b[0m\u001b[1;33m\u001b[0m\u001b[0m\n\u001b[0;32m   2647\u001b[0m             \u001b[1;32mexcept\u001b[0m \u001b[0mKeyError\u001b[0m\u001b[1;33m:\u001b[0m\u001b[1;33m\u001b[0m\u001b[1;33m\u001b[0m\u001b[0m\n\u001b[1;32m-> 2648\u001b[1;33m                 \u001b[1;32mreturn\u001b[0m \u001b[0mself\u001b[0m\u001b[1;33m.\u001b[0m\u001b[0m_engine\u001b[0m\u001b[1;33m.\u001b[0m\u001b[0mget_loc\u001b[0m\u001b[1;33m(\u001b[0m\u001b[0mself\u001b[0m\u001b[1;33m.\u001b[0m\u001b[0m_maybe_cast_indexer\u001b[0m\u001b[1;33m(\u001b[0m\u001b[0mkey\u001b[0m\u001b[1;33m)\u001b[0m\u001b[1;33m)\u001b[0m\u001b[1;33m\u001b[0m\u001b[1;33m\u001b[0m\u001b[0m\n\u001b[0m\u001b[0;32m   2649\u001b[0m         \u001b[0mindexer\u001b[0m \u001b[1;33m=\u001b[0m \u001b[0mself\u001b[0m\u001b[1;33m.\u001b[0m\u001b[0mget_indexer\u001b[0m\u001b[1;33m(\u001b[0m\u001b[1;33m[\u001b[0m\u001b[0mkey\u001b[0m\u001b[1;33m]\u001b[0m\u001b[1;33m,\u001b[0m \u001b[0mmethod\u001b[0m\u001b[1;33m=\u001b[0m\u001b[0mmethod\u001b[0m\u001b[1;33m,\u001b[0m \u001b[0mtolerance\u001b[0m\u001b[1;33m=\u001b[0m\u001b[0mtolerance\u001b[0m\u001b[1;33m)\u001b[0m\u001b[1;33m\u001b[0m\u001b[1;33m\u001b[0m\u001b[0m\n\u001b[0;32m   2650\u001b[0m         \u001b[1;32mif\u001b[0m \u001b[0mindexer\u001b[0m\u001b[1;33m.\u001b[0m\u001b[0mndim\u001b[0m \u001b[1;33m>\u001b[0m \u001b[1;36m1\u001b[0m \u001b[1;32mor\u001b[0m \u001b[0mindexer\u001b[0m\u001b[1;33m.\u001b[0m\u001b[0msize\u001b[0m \u001b[1;33m>\u001b[0m \u001b[1;36m1\u001b[0m\u001b[1;33m:\u001b[0m\u001b[1;33m\u001b[0m\u001b[1;33m\u001b[0m\u001b[0m\n",
      "\u001b[1;32mpandas\\_libs\\index.pyx\u001b[0m in \u001b[0;36mpandas._libs.index.IndexEngine.get_loc\u001b[1;34m()\u001b[0m\n",
      "\u001b[1;32mpandas\\_libs\\index.pyx\u001b[0m in \u001b[0;36mpandas._libs.index.IndexEngine.get_loc\u001b[1;34m()\u001b[0m\n",
      "\u001b[1;32mpandas\\_libs\\hashtable_class_helper.pxi\u001b[0m in \u001b[0;36mpandas._libs.hashtable.PyObjectHashTable.get_item\u001b[1;34m()\u001b[0m\n",
      "\u001b[1;32mpandas\\_libs\\hashtable_class_helper.pxi\u001b[0m in \u001b[0;36mpandas._libs.hashtable.PyObjectHashTable.get_item\u001b[1;34m()\u001b[0m\n",
<<<<<<< HEAD
      "\u001b[1;31mKeyError\u001b[0m: 'df'"
     ]
    }
   ],
   "source": [
    "\"\"\"covariance = jdr_dailyreturns['df'].cov(jdr_dailyreturns['daily_returns'])\n",
    "covariance    CALCULATE BETA???\"\"\""
   ]
  },
  {
   "cell_type": "code",
   "execution_count": 88,
   "metadata": {},
   "outputs": [],
   "source": [
    "#joined_data_rows.plot(kind='scatter', x='daily_returns', y='df')"
   ]
  },
  {
   "cell_type": "code",
   "execution_count": 82,
   "metadata": {},
   "outputs": [],
   "source": [
    "###SHARP RATIOS"
   ]
  },
  {
   "cell_type": "code",
   "execution_count": 94,
   "metadata": {},
   "outputs": [
    {
     "data": {
      "text/plain": [
       "SOROS FUND MANAGEMENT LLC             NaN\n",
       "PAULSON & CO.INC.                     NaN\n",
       "TIGER GLOBAL MANAGEMENT LLC           NaN\n",
       "BERKSHIRE HATHAWAY INC                NaN\n",
       "Algo 1                        -187.843775\n",
       "Algo 2                          68.070524\n",
       "Close                                 NaN\n",
       "dtype: float64"
      ]
     },
     "execution_count": 94,
     "metadata": {},
     "output_type": "execute_result"
    }
   ],
   "source": [
    "sharpe_ratios = (jdr_dailyreturns.mean() * 252) / (jdr_dailyreturns).std() * np.sqrt(252)\n",
    "sharpe_ratios"
   ]
  },
  {
   "cell_type": "code",
   "execution_count": 84,
   "metadata": {},
   "outputs": [
    {
     "data": {
      "text/plain": [
       "<matplotlib.axes._subplots.AxesSubplot at 0x20555ddb790>"
      ]
     },
     "execution_count": 84,
     "metadata": {},
     "output_type": "execute_result"
    },
    {
     "data": {
      "image/png": "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\n",
=======
      "\u001b[1;31mKeyError\u001b[0m: 'S&P500'"
     ]
    },
    {
     "data": {
      "image/png": "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\n",
>>>>>>> 1ae967017cfd9ba8c776fb786cfdba66c6eff196
      "text/plain": [
       "<Figure size 432x288 with 1 Axes>"
      ]
     },
     "metadata": {
      "needs_background": "light"
     },
     "output_type": "display_data"
    }
   ],
   "source": [
<<<<<<< HEAD
    "sharpe_ratios.plot(kind=\"bar\", title=\"Sharpe Ratios\")"
=======
    "#joined_data_rows.plot(kind='scatter', x='S&P500', y='Algo 1')???"
>>>>>>> 1ae967017cfd9ba8c776fb786cfdba66c6eff196
   ]
  },
  {
   "cell_type": "code",
<<<<<<< HEAD
   "execution_count": 103,
   "metadata": {},
   "outputs": [],
   "source": [
    "bac_csv = Path(\"C:/Users/annap/documents/class/ucb-sfc-fin-pt-08-2020-u-c/pandahomework/pandahomework/BAC.csv\")\n",
    "bac = pd.read_csv(bac_csv, parse_dates=True, index_col='Date', infer_datetime_format=True)\n",
    "jpm_csv = Path(\"~/documents/class/ucb-sfc-fin-pt-08-2020-u-c/pandahomework/pandahomework/JPM.csv\")\n",
    "jpm = pd.read_csv(jpm_csv, parse_dates=True, index_col='Date', infer_datetime_format=True)\n",
    "wfc_csv = Path(\"~/documents/class/ucb-sfc-fin-pt-08-2020-u-c/pandahomework/pandahomework/WFC.csv\")\n",
    "wfc = pd.read_csv(wfc_csv, parse_dates=True, index_col='Date', infer_datetime_format=True)\n"
   ]
  },
  {
   "cell_type": "code",
   "execution_count": 107,
   "metadata": {},
   "outputs": [
    {
     "data": {
      "text/html": [
       "<div>\n",
       "<style scoped>\n",
       "    .dataframe tbody tr th:only-of-type {\n",
       "        vertical-align: middle;\n",
       "    }\n",
       "\n",
       "    .dataframe tbody tr th {\n",
       "        vertical-align: top;\n",
       "    }\n",
       "\n",
       "    .dataframe thead th {\n",
       "        text-align: right;\n",
       "    }\n",
       "</style>\n",
       "<table border=\"1\" class=\"dataframe\">\n",
       "  <thead>\n",
       "    <tr style=\"text-align: right;\">\n",
       "      <th></th>\n",
       "      <th>Close</th>\n",
       "    </tr>\n",
       "    <tr>\n",
       "      <th>Date</th>\n",
       "      <th></th>\n",
       "    </tr>\n",
       "  </thead>\n",
       "  <tbody>\n",
       "    <tr>\n",
       "      <th>2019-01-02 16:00:00</th>\n",
       "      <td>24.96</td>\n",
       "    </tr>\n",
       "    <tr>\n",
       "      <th>2019-01-03 16:00:00</th>\n",
       "      <td>24.56</td>\n",
       "    </tr>\n",
       "    <tr>\n",
       "      <th>2019-01-04 16:00:00</th>\n",
       "      <td>25.58</td>\n",
       "    </tr>\n",
       "    <tr>\n",
       "      <th>2019-01-07 16:00:00</th>\n",
       "      <td>25.56</td>\n",
       "    </tr>\n",
       "    <tr>\n",
       "      <th>2019-01-08 16:00:00</th>\n",
       "      <td>25.51</td>\n",
       "    </tr>\n",
       "    <tr>\n",
       "      <th>...</th>\n",
       "      <td>...</td>\n",
       "    </tr>\n",
       "    <tr>\n",
       "      <th>2019-12-23 16:00:00</th>\n",
       "      <td>35.17</td>\n",
       "    </tr>\n",
       "    <tr>\n",
       "      <th>2019-12-24 13:00:00</th>\n",
       "      <td>35.22</td>\n",
       "    </tr>\n",
       "    <tr>\n",
       "      <th>2019-12-26 16:00:00</th>\n",
       "      <td>35.52</td>\n",
       "    </tr>\n",
       "    <tr>\n",
       "      <th>2019-12-27 16:00:00</th>\n",
       "      <td>35.35</td>\n",
       "    </tr>\n",
       "    <tr>\n",
       "      <th>2019-12-30 16:00:00</th>\n",
       "      <td>35.15</td>\n",
       "    </tr>\n",
       "  </tbody>\n",
       "</table>\n",
       "<p>251 rows × 1 columns</p>\n",
       "</div>"
      ],
      "text/plain": [
       "                     Close\n",
       "Date                      \n",
       "2019-01-02 16:00:00  24.96\n",
       "2019-01-03 16:00:00  24.56\n",
       "2019-01-04 16:00:00  25.58\n",
       "2019-01-07 16:00:00  25.56\n",
       "2019-01-08 16:00:00  25.51\n",
       "...                    ...\n",
       "2019-12-23 16:00:00  35.17\n",
       "2019-12-24 13:00:00  35.22\n",
       "2019-12-26 16:00:00  35.52\n",
       "2019-12-27 16:00:00  35.35\n",
       "2019-12-30 16:00:00  35.15\n",
       "\n",
       "[251 rows x 1 columns]"
      ]
     },
     "execution_count": 107,
     "metadata": {},
     "output_type": "execute_result"
    }
   ],
   "source": [
    "bac"
   ]
  },
  {
   "cell_type": "code",
   "execution_count": 112,
   "metadata": {},
   "outputs": [
    {
     "data": {
      "text/html": [
       "<div>\n",
       "<style scoped>\n",
       "    .dataframe tbody tr th:only-of-type {\n",
       "        vertical-align: middle;\n",
       "    }\n",
       "\n",
       "    .dataframe tbody tr th {\n",
       "        vertical-align: top;\n",
       "    }\n",
       "\n",
       "    .dataframe thead th {\n",
       "        text-align: right;\n",
       "    }\n",
       "</style>\n",
       "<table border=\"1\" class=\"dataframe\">\n",
       "  <thead>\n",
       "    <tr style=\"text-align: right;\">\n",
       "      <th></th>\n",
       "      <th>BAC</th>\n",
       "    </tr>\n",
       "    <tr>\n",
       "      <th>Date</th>\n",
       "      <th></th>\n",
       "    </tr>\n",
       "  </thead>\n",
       "  <tbody>\n",
       "    <tr>\n",
       "      <th>2019-01-02 16:00:00</th>\n",
       "      <td>24.96</td>\n",
       "    </tr>\n",
       "    <tr>\n",
       "      <th>2019-01-03 16:00:00</th>\n",
       "      <td>24.56</td>\n",
       "    </tr>\n",
       "    <tr>\n",
       "      <th>2019-01-04 16:00:00</th>\n",
       "      <td>25.58</td>\n",
       "    </tr>\n",
       "    <tr>\n",
       "      <th>2019-01-07 16:00:00</th>\n",
       "      <td>25.56</td>\n",
       "    </tr>\n",
       "    <tr>\n",
       "      <th>2019-01-08 16:00:00</th>\n",
       "      <td>25.51</td>\n",
       "    </tr>\n",
       "  </tbody>\n",
       "</table>\n",
       "</div>"
      ],
      "text/plain": [
       "                       BAC\n",
       "Date                      \n",
       "2019-01-02 16:00:00  24.96\n",
       "2019-01-03 16:00:00  24.56\n",
       "2019-01-04 16:00:00  25.58\n",
       "2019-01-07 16:00:00  25.56\n",
       "2019-01-08 16:00:00  25.51"
      ]
     },
     "execution_count": 112,
     "metadata": {},
     "output_type": "execute_result"
    }
   ],
   "source": [
    "bac = bac.rename(columns={\n",
    "    \"Close\": \"BAC\",\n",
    "})\n",
    "\n",
    "bac.head()"
=======
   "execution_count": 39,
   "metadata": {},
   "outputs": [],
   "source": [
    "###SHARP RATIOS"
>>>>>>> 1ae967017cfd9ba8c776fb786cfdba66c6eff196
   ]
  },
  {
   "cell_type": "code",
<<<<<<< HEAD
   "execution_count": 113,
=======
   "execution_count": 42,
>>>>>>> 1ae967017cfd9ba8c776fb786cfdba66c6eff196
   "metadata": {},
   "outputs": [
    {
     "data": {
<<<<<<< HEAD
      "text/html": [
       "<div>\n",
       "<style scoped>\n",
       "    .dataframe tbody tr th:only-of-type {\n",
       "        vertical-align: middle;\n",
       "    }\n",
       "\n",
       "    .dataframe tbody tr th {\n",
       "        vertical-align: top;\n",
       "    }\n",
       "\n",
       "    .dataframe thead th {\n",
       "        text-align: right;\n",
       "    }\n",
       "</style>\n",
       "<table border=\"1\" class=\"dataframe\">\n",
       "  <thead>\n",
       "    <tr style=\"text-align: right;\">\n",
       "      <th></th>\n",
       "      <th>JPM</th>\n",
       "    </tr>\n",
       "    <tr>\n",
       "      <th>Date</th>\n",
       "      <th></th>\n",
       "    </tr>\n",
       "  </thead>\n",
       "  <tbody>\n",
       "    <tr>\n",
       "      <th>2019-01-02 16:00:00</th>\n",
       "      <td>99.31</td>\n",
       "    </tr>\n",
       "    <tr>\n",
       "      <th>2019-01-03 16:00:00</th>\n",
       "      <td>97.11</td>\n",
       "    </tr>\n",
       "    <tr>\n",
       "      <th>2019-01-04 16:00:00</th>\n",
       "      <td>100.69</td>\n",
       "    </tr>\n",
       "    <tr>\n",
       "      <th>2019-01-07 16:00:00</th>\n",
       "      <td>100.76</td>\n",
       "    </tr>\n",
       "    <tr>\n",
       "      <th>2019-01-08 16:00:00</th>\n",
       "      <td>100.57</td>\n",
       "    </tr>\n",
       "  </tbody>\n",
       "</table>\n",
       "</div>"
      ],
      "text/plain": [
       "                        JPM\n",
       "Date                       \n",
       "2019-01-02 16:00:00   99.31\n",
       "2019-01-03 16:00:00   97.11\n",
       "2019-01-04 16:00:00  100.69\n",
       "2019-01-07 16:00:00  100.76\n",
       "2019-01-08 16:00:00  100.57"
      ]
     },
     "execution_count": 113,
=======
      "text/plain": [
       "SOROS FUND MANAGEMENT LLC         89.817051\n",
       "PAULSON & CO.INC.               -121.859610\n",
       "TIGER GLOBAL MANAGEMENT LLC      -30.507024\n",
       "BERKSHIRE HATHAWAY INC           156.696151\n",
       "Algo 1                           347.419418\n",
       "Algo 2                           126.343642\n",
       "S&P 500                        31115.980123\n",
       "dtype: float64"
      ]
     },
     "execution_count": 42,
>>>>>>> 1ae967017cfd9ba8c776fb786cfdba66c6eff196
     "metadata": {},
     "output_type": "execute_result"
    }
   ],
   "source": [
<<<<<<< HEAD
    "jpm = jpm.rename(columns={\n",
    "    \"Close\": \"JPM\",\n",
    "})\n",
    "\n",
    "jpm.head()"
=======
    "sharpe_ratios = (joined_data_rows.mean() * 252) / (joined_data_rows).std() * np.sqrt(252)\n",
    "sharpe_ratios"
>>>>>>> 1ae967017cfd9ba8c776fb786cfdba66c6eff196
   ]
  },
  {
   "cell_type": "code",
<<<<<<< HEAD
   "execution_count": 114,
=======
   "execution_count": 43,
>>>>>>> 1ae967017cfd9ba8c776fb786cfdba66c6eff196
   "metadata": {},
   "outputs": [
    {
     "data": {
<<<<<<< HEAD
      "text/html": [
       "<div>\n",
       "<style scoped>\n",
       "    .dataframe tbody tr th:only-of-type {\n",
       "        vertical-align: middle;\n",
       "    }\n",
       "\n",
       "    .dataframe tbody tr th {\n",
       "        vertical-align: top;\n",
       "    }\n",
       "\n",
       "    .dataframe thead th {\n",
       "        text-align: right;\n",
       "    }\n",
       "</style>\n",
       "<table border=\"1\" class=\"dataframe\">\n",
       "  <thead>\n",
       "    <tr style=\"text-align: right;\">\n",
       "      <th></th>\n",
       "      <th>WFC</th>\n",
       "    </tr>\n",
       "    <tr>\n",
       "      <th>Date</th>\n",
       "      <th></th>\n",
       "    </tr>\n",
       "  </thead>\n",
       "  <tbody>\n",
       "    <tr>\n",
       "      <th>2019-01-02 16:00:00</th>\n",
       "      <td>46.94</td>\n",
       "    </tr>\n",
       "    <tr>\n",
       "      <th>2019-01-03 16:00:00</th>\n",
       "      <td>46.57</td>\n",
       "    </tr>\n",
       "    <tr>\n",
       "      <th>2019-01-04 16:00:00</th>\n",
       "      <td>47.95</td>\n",
       "    </tr>\n",
       "    <tr>\n",
       "      <th>2019-01-07 16:00:00</th>\n",
       "      <td>47.64</td>\n",
       "    </tr>\n",
       "    <tr>\n",
       "      <th>2019-01-08 16:00:00</th>\n",
       "      <td>47.54</td>\n",
       "    </tr>\n",
       "  </tbody>\n",
       "</table>\n",
       "</div>"
      ],
      "text/plain": [
       "                       WFC\n",
       "Date                      \n",
       "2019-01-02 16:00:00  46.94\n",
       "2019-01-03 16:00:00  46.57\n",
       "2019-01-04 16:00:00  47.95\n",
       "2019-01-07 16:00:00  47.64\n",
       "2019-01-08 16:00:00  47.54"
      ]
     },
     "execution_count": 114,
     "metadata": {},
     "output_type": "execute_result"
    }
   ],
   "source": [
    "wfc = wfc.rename(columns={\n",
    "    \"Close\": \"WFC\",\n",
    "})\n",
    "\n",
    "wfc.head()"
   ]
  },
  {
   "cell_type": "code",
   "execution_count": 115,
   "metadata": {},
   "outputs": [
    {
     "data": {
      "text/html": [
       "<div>\n",
       "<style scoped>\n",
       "    .dataframe tbody tr th:only-of-type {\n",
       "        vertical-align: middle;\n",
       "    }\n",
       "\n",
       "    .dataframe tbody tr th {\n",
       "        vertical-align: top;\n",
       "    }\n",
       "\n",
       "    .dataframe thead th {\n",
       "        text-align: right;\n",
       "    }\n",
       "</style>\n",
       "<table border=\"1\" class=\"dataframe\">\n",
       "  <thead>\n",
       "    <tr style=\"text-align: right;\">\n",
       "      <th></th>\n",
       "      <th>BAC</th>\n",
       "      <th>JPM</th>\n",
       "      <th>WFC</th>\n",
       "    </tr>\n",
       "    <tr>\n",
       "      <th>Date</th>\n",
       "      <th></th>\n",
       "      <th></th>\n",
       "      <th></th>\n",
       "    </tr>\n",
       "  </thead>\n",
       "  <tbody>\n",
       "    <tr>\n",
       "      <th>2019-01-02 16:00:00</th>\n",
       "      <td>24.96</td>\n",
       "      <td>99.31</td>\n",
       "      <td>46.94</td>\n",
       "    </tr>\n",
       "    <tr>\n",
       "      <th>2019-01-03 16:00:00</th>\n",
       "      <td>24.56</td>\n",
       "      <td>97.11</td>\n",
       "      <td>46.57</td>\n",
       "    </tr>\n",
       "    <tr>\n",
       "      <th>2019-01-04 16:00:00</th>\n",
       "      <td>25.58</td>\n",
       "      <td>100.69</td>\n",
       "      <td>47.95</td>\n",
       "    </tr>\n",
       "    <tr>\n",
       "      <th>2019-01-07 16:00:00</th>\n",
       "      <td>25.56</td>\n",
       "      <td>100.76</td>\n",
       "      <td>47.64</td>\n",
       "    </tr>\n",
       "    <tr>\n",
       "      <th>2019-01-08 16:00:00</th>\n",
       "      <td>25.51</td>\n",
       "      <td>100.57</td>\n",
       "      <td>47.54</td>\n",
       "    </tr>\n",
       "    <tr>\n",
       "      <th>...</th>\n",
       "      <td>...</td>\n",
       "      <td>...</td>\n",
       "      <td>...</td>\n",
       "    </tr>\n",
       "    <tr>\n",
       "      <th>2019-12-23 16:00:00</th>\n",
       "      <td>35.17</td>\n",
       "      <td>137.20</td>\n",
       "      <td>53.81</td>\n",
       "    </tr>\n",
       "    <tr>\n",
       "      <th>2019-12-24 13:00:00</th>\n",
       "      <td>35.22</td>\n",
       "      <td>137.58</td>\n",
       "      <td>53.82</td>\n",
       "    </tr>\n",
       "    <tr>\n",
       "      <th>2019-12-26 16:00:00</th>\n",
       "      <td>35.52</td>\n",
       "      <td>139.04</td>\n",
       "      <td>54.15</td>\n",
       "    </tr>\n",
       "    <tr>\n",
       "      <th>2019-12-27 16:00:00</th>\n",
       "      <td>35.35</td>\n",
       "      <td>139.14</td>\n",
       "      <td>53.92</td>\n",
       "    </tr>\n",
       "    <tr>\n",
       "      <th>2019-12-30 16:00:00</th>\n",
       "      <td>35.15</td>\n",
       "      <td>138.63</td>\n",
       "      <td>53.60</td>\n",
       "    </tr>\n",
       "  </tbody>\n",
       "</table>\n",
       "<p>251 rows × 3 columns</p>\n",
       "</div>"
      ],
      "text/plain": [
       "                       BAC     JPM    WFC\n",
       "Date                                     \n",
       "2019-01-02 16:00:00  24.96   99.31  46.94\n",
       "2019-01-03 16:00:00  24.56   97.11  46.57\n",
       "2019-01-04 16:00:00  25.58  100.69  47.95\n",
       "2019-01-07 16:00:00  25.56  100.76  47.64\n",
       "2019-01-08 16:00:00  25.51  100.57  47.54\n",
       "...                    ...     ...    ...\n",
       "2019-12-23 16:00:00  35.17  137.20  53.81\n",
       "2019-12-24 13:00:00  35.22  137.58  53.82\n",
       "2019-12-26 16:00:00  35.52  139.04  54.15\n",
       "2019-12-27 16:00:00  35.35  139.14  53.92\n",
       "2019-12-30 16:00:00  35.15  138.63  53.60\n",
       "\n",
       "[251 rows x 3 columns]"
      ]
     },
     "execution_count": 115,
     "metadata": {},
     "output_type": "execute_result"
    }
   ],
   "source": [
    "joined_banks = pd.concat([bac, jpm, wfc], axis=\"columns\", join=\"inner\")\n",
    "joined_banks"
   ]
  },
  {
   "cell_type": "code",
   "execution_count": 106,
   "metadata": {},
   "outputs": [
    {
     "data": {
      "text/html": [
       "<div>\n",
       "<style scoped>\n",
       "    .dataframe tbody tr th:only-of-type {\n",
       "        vertical-align: middle;\n",
       "    }\n",
       "\n",
       "    .dataframe tbody tr th {\n",
       "        vertical-align: top;\n",
       "    }\n",
       "\n",
       "    .dataframe thead th {\n",
       "        text-align: right;\n",
       "    }\n",
       "</style>\n",
       "<table border=\"1\" class=\"dataframe\">\n",
       "  <thead>\n",
       "    <tr style=\"text-align: right;\">\n",
       "      <th></th>\n",
       "      <th>JPM</th>\n",
       "      <th>JPM</th>\n",
       "      <th>JPM</th>\n",
       "    </tr>\n",
       "    <tr>\n",
       "      <th>Date</th>\n",
       "      <th></th>\n",
       "      <th></th>\n",
       "      <th></th>\n",
       "    </tr>\n",
       "  </thead>\n",
       "  <tbody>\n",
       "    <tr>\n",
       "      <th>2019-01-02 16:00:00</th>\n",
       "      <td>24.96</td>\n",
       "      <td>99.31</td>\n",
       "      <td>46.94</td>\n",
       "    </tr>\n",
       "    <tr>\n",
       "      <th>2019-01-03 16:00:00</th>\n",
       "      <td>24.56</td>\n",
       "      <td>97.11</td>\n",
       "      <td>46.57</td>\n",
       "    </tr>\n",
       "    <tr>\n",
       "      <th>2019-01-04 16:00:00</th>\n",
       "      <td>25.58</td>\n",
       "      <td>100.69</td>\n",
       "      <td>47.95</td>\n",
       "    </tr>\n",
       "    <tr>\n",
       "      <th>2019-01-07 16:00:00</th>\n",
       "      <td>25.56</td>\n",
       "      <td>100.76</td>\n",
       "      <td>47.64</td>\n",
       "    </tr>\n",
       "    <tr>\n",
       "      <th>2019-01-08 16:00:00</th>\n",
       "      <td>25.51</td>\n",
       "      <td>100.57</td>\n",
       "      <td>47.54</td>\n",
       "    </tr>\n",
       "  </tbody>\n",
       "</table>\n",
       "</div>"
      ],
      "text/plain": [
       "                       JPM     JPM    JPM\n",
       "Date                                     \n",
       "2019-01-02 16:00:00  24.96   99.31  46.94\n",
       "2019-01-03 16:00:00  24.56   97.11  46.57\n",
       "2019-01-04 16:00:00  25.58  100.69  47.95\n",
       "2019-01-07 16:00:00  25.56  100.76  47.64\n",
       "2019-01-08 16:00:00  25.51  100.57  47.54"
      ]
     },
     "execution_count": 106,
     "metadata": {},
     "output_type": "execute_result"
    }
   ],
   "source": [
    "\n"
=======
      "text/plain": [
       "<matplotlib.axes._subplots.AxesSubplot at 0x205564da9a0>"
      ]
     },
     "execution_count": 43,
     "metadata": {},
     "output_type": "execute_result"
    },
    {
     "data": {
      "image/png": "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\n",
      "text/plain": [
       "<Figure size 432x288 with 1 Axes>"
      ]
     },
     "metadata": {
      "needs_background": "light"
     },
     "output_type": "display_data"
    }
   ],
   "source": [
    "sharpe_ratios.plot(kind=\"bar\", title=\"Sharpe Ratios\")"
>>>>>>> 1ae967017cfd9ba8c776fb786cfdba66c6eff196
   ]
  },
  {
   "cell_type": "code",
   "execution_count": null,
   "metadata": {},
   "outputs": [],
   "source": []
  }
 ],
 "metadata": {
  "kernelspec": {
   "display_name": "Python 3",
   "language": "python",
   "name": "python3"
  },
  "language_info": {
   "codemirror_mode": {
    "name": "ipython",
    "version": 3
   },
   "file_extension": ".py",
   "mimetype": "text/x-python",
   "name": "python",
   "nbconvert_exporter": "python",
   "pygments_lexer": "ipython3",
   "version": "3.8.3"
  }
 },
 "nbformat": 4,
 "nbformat_minor": 4
}
